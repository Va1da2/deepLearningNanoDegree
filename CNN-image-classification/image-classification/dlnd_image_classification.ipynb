{
 "cells": [
  {
   "cell_type": "markdown",
   "metadata": {
    "collapsed": true,
    "deletable": true,
    "editable": true
   },
   "source": [
    "# Image Classification\n",
    "In this project, you'll classify images from the [CIFAR-10 dataset](https://www.cs.toronto.edu/~kriz/cifar.html).  The dataset consists of airplanes, dogs, cats, and other objects. You'll preprocess the images, then train a convolutional neural network on all the samples. The images need to be normalized and the labels need to be one-hot encoded.  You'll get to apply what you learned and build a convolutional, max pooling, dropout, and fully connected layers.  At the end, you'll get to see your neural network's predictions on the sample images.\n",
    "## Get the Data\n",
    "Run the following cell to download the [CIFAR-10 dataset for python](https://www.cs.toronto.edu/~kriz/cifar-10-python.tar.gz)."
   ]
  },
  {
   "cell_type": "code",
   "execution_count": 1,
   "metadata": {
    "collapsed": false,
    "deletable": true,
    "editable": true
   },
   "outputs": [
    {
     "name": "stdout",
     "output_type": "stream",
     "text": [
      "All files found!\n"
     ]
    }
   ],
   "source": [
    "\"\"\"\n",
    "DON'T MODIFY ANYTHING IN THIS CELL THAT IS BELOW THIS LINE\n",
    "\"\"\"\n",
    "from urllib.request import urlretrieve\n",
    "from os.path import isfile, isdir\n",
    "from tqdm import tqdm\n",
    "import problem_unittests as tests\n",
    "import tarfile\n",
    "\n",
    "cifar10_dataset_folder_path = 'cifar-10-batches-py'\n",
    "\n",
    "class DLProgress(tqdm):\n",
    "    last_block = 0\n",
    "\n",
    "    def hook(self, block_num=1, block_size=1, total_size=None):\n",
    "        self.total = total_size\n",
    "        self.update((block_num - self.last_block) * block_size)\n",
    "        self.last_block = block_num\n",
    "\n",
    "if not isfile('cifar-10-python.tar.gz'):\n",
    "    with DLProgress(unit='B', unit_scale=True, miniters=1, desc='CIFAR-10 Dataset') as pbar:\n",
    "        urlretrieve(\n",
    "            'https://www.cs.toronto.edu/~kriz/cifar-10-python.tar.gz',\n",
    "            'cifar-10-python.tar.gz',\n",
    "            pbar.hook)\n",
    "\n",
    "if not isdir(cifar10_dataset_folder_path):\n",
    "    with tarfile.open('cifar-10-python.tar.gz') as tar:\n",
    "        tar.extractall()\n",
    "        tar.close()\n",
    "\n",
    "\n",
    "tests.test_folder_path(cifar10_dataset_folder_path)"
   ]
  },
  {
   "cell_type": "markdown",
   "metadata": {
    "deletable": true,
    "editable": true
   },
   "source": [
    "## Explore the Data\n",
    "The dataset is broken into batches to prevent your machine from running out of memory.  The CIFAR-10 dataset consists of 5 batches, named `data_batch_1`, `data_batch_2`, etc.. Each batch contains the labels and images that are one of the following:\n",
    "* airplane\n",
    "* automobile\n",
    "* bird\n",
    "* cat\n",
    "* deer\n",
    "* dog\n",
    "* frog\n",
    "* horse\n",
    "* ship\n",
    "* truck\n",
    "\n",
    "Understanding a dataset is part of making predictions on the data.  Play around with the code cell below by changing the `batch_id` and `sample_id`. The `batch_id` is the id for a batch (1-5). The `sample_id` is the id for a image and label pair in the batch.\n",
    "\n",
    "Ask yourself \"What are all possible labels?\", \"What is the range of values for the image data?\", \"Are the labels in order or random?\".  Answers to questions like these will help you preprocess the data and end up with better predictions."
   ]
  },
  {
   "cell_type": "code",
   "execution_count": 2,
   "metadata": {
    "collapsed": false,
    "deletable": true,
    "editable": true
   },
   "outputs": [
    {
     "name": "stdout",
     "output_type": "stream",
     "text": [
      "\n",
      "Stats of batch 1:\n",
      "Samples: 10000\n",
      "Label Counts: {0: 1005, 1: 974, 2: 1032, 3: 1016, 4: 999, 5: 937, 6: 1030, 7: 1001, 8: 1025, 9: 981}\n",
      "First 20 Labels: [6, 9, 9, 4, 1, 1, 2, 7, 8, 3, 4, 7, 7, 2, 9, 9, 9, 3, 2, 6]\n",
      "\n",
      "Example of Image 8:\n",
      "Image - Min Value: 8 Max Value: 252\n",
      "Image - Shape: (32, 32, 3)\n",
      "Label - Label Id: 8 Name: ship\n"
     ]
    },
    {
     "data": {
      "image/png": "[encoded data removed]",
      "text/plain": [
       "<matplotlib.figure.Figure at 0x7f175876b6d8>"
      ]
     },
     "metadata": {
      "image/png": {
       "height": 250,
       "width": 253
      }
     },
     "output_type": "display_data"
    }
   ],
   "source": [
    "%matplotlib inline\n",
    "%config InlineBackend.figure_format = 'retina'\n",
    "\n",
    "import helper\n",
    "import numpy as np\n",
    "\n",
    "# Explore the dataset\n",
    "batch_id = 1\n",
    "sample_id = 8\n",
    "helper.display_stats(cifar10_dataset_folder_path, batch_id, sample_id)"
   ]
  },
  {
   "cell_type": "markdown",
   "metadata": {
    "deletable": true,
    "editable": true
   },
   "source": [
    "## Implement Preprocess Functions\n",
    "### Normalize\n",
    "In the cell below, implement the `normalize` function to take in image data, `x`, and return it as a normalized Numpy array. The values should be in the range of 0 to 1, inclusive.  The return object should be the same shape as `x`."
   ]
  },
  {
   "cell_type": "code",
   "execution_count": 3,
   "metadata": {
    "collapsed": false,
    "deletable": true,
    "editable": true,
    "scrolled": true
   },
   "outputs": [
    {
     "name": "stdout",
     "output_type": "stream",
     "text": [
      "Tests Passed\n"
     ]
    }
   ],
   "source": [
    "def normalize(x):\n",
    "    \"\"\"\n",
    "    Normalize a list of sample image data in the range of 0 to 1\n",
    "    : x: List of image data.  The image shape is (32, 32, 3)\n",
    "    : return: Numpy array of normalize data\n",
    "    \"\"\"\n",
    "    # TODO: Implement Function\n",
    "    \n",
    "    return x.astype(float) / 255.0\n",
    "\n",
    "\n",
    "\"\"\"\n",
    "DON'T MODIFY ANYTHING IN THIS CELL THAT IS BELOW THIS LINE\n",
    "\"\"\"\n",
    "tests.test_normalize(normalize)"
   ]
  },
  {
   "cell_type": "markdown",
   "metadata": {
    "deletable": true,
    "editable": true
   },
   "source": [
    "### One-hot encode\n",
    "Just like the previous code cell, you'll be implementing a function for preprocessing.  This time, you'll implement the `one_hot_encode` function. The input, `x`, are a list of labels.  Implement the function to return the list of labels as One-Hot encoded Numpy array.  The possible values for labels are 0 to 9. The one-hot encoding function should return the same encoding for each value between each call to `one_hot_encode`.  Make sure to save the map of encodings outside the function.\n",
    "\n",
    "Hint: Don't reinvent the wheel."
   ]
  },
  {
   "cell_type": "code",
   "execution_count": 4,
   "metadata": {
    "collapsed": false,
    "deletable": true,
    "editable": true
   },
   "outputs": [
    {
     "name": "stdout",
     "output_type": "stream",
     "text": [
      "Tests Passed\n"
     ]
    }
   ],
   "source": [
    "def one_hot_encode(x):\n",
    "    \"\"\"\n",
    "    One hot encode a list of sample labels. Return a one-hot encoded vector for each label.\n",
    "    : x: List of sample Labels\n",
    "    : return: Numpy array of one-hot encoded labels\n",
    "    \"\"\"\n",
    "    # TODO: Implement Function\n",
    "    one_hot = np.zeros((len(x), 10))\n",
    "    one_hot[np.arange(len(x)), x] = 1\n",
    "    return one_hot\n",
    "\n",
    "\n",
    "\"\"\"\n",
    "DON'T MODIFY ANYTHING IN THIS CELL THAT IS BELOW THIS LINE\n",
    "\"\"\"\n",
    "tests.test_one_hot_encode(one_hot_encode)"
   ]
  },
  {
   "cell_type": "markdown",
   "metadata": {
    "deletable": true,
    "editable": true
   },
   "source": [
    "### Randomize Data\n",
    "As you saw from exploring the data above, the order of the samples are randomized.  It doesn't hurt to randomize it again, but you don't need to for this dataset."
   ]
  },
  {
   "cell_type": "markdown",
   "metadata": {
    "deletable": true,
    "editable": true
   },
   "source": [
    "## Preprocess all the data and save it\n",
    "Running the code cell below will preprocess all the CIFAR-10 data and save it to file. The code below also uses 10% of the training data for validation."
   ]
  },
  {
   "cell_type": "code",
   "execution_count": 5,
   "metadata": {
    "collapsed": false,
    "deletable": true,
    "editable": true
   },
   "outputs": [],
   "source": [
    "\"\"\"\n",
    "DON'T MODIFY ANYTHING IN THIS CELL\n",
    "\"\"\"\n",
    "# Preprocess Training, Validation, and Testing Data\n",
    "helper.preprocess_and_save_data(cifar10_dataset_folder_path, normalize, one_hot_encode)"
   ]
  },
  {
   "cell_type": "markdown",
   "metadata": {
    "deletable": true,
    "editable": true
   },
   "source": [
    "# Check Point\n",
    "This is your first checkpoint.  If you ever decide to come back to this notebook or have to restart the notebook, you can start from here.  The preprocessed data has been saved to disk."
   ]
  },
  {
   "cell_type": "code",
   "execution_count": 1,
   "metadata": {
    "collapsed": true,
    "deletable": true,
    "editable": true
   },
   "outputs": [],
   "source": [
    "\"\"\"\n",
    "DON'T MODIFY ANYTHING IN THIS CELL\n",
    "\"\"\"\n",
    "import pickle\n",
    "import problem_unittests as tests\n",
    "import helper\n",
    "\n",
    "# Load the Preprocessed Validation data\n",
    "valid_features, valid_labels = pickle.load(open('preprocess_validation.p', mode='rb'))"
   ]
  },
  {
   "cell_type": "markdown",
   "metadata": {
    "deletable": true,
    "editable": true
   },
   "source": [
    "## Build the network\n",
    "For the neural network, you'll build each layer into a function.  Most of the code you've seen has been outside of functions. To test your code more thoroughly, we require that you put each layer in a function.  This allows us to give you better feedback and test for simple mistakes using our unittests before you submit your project.\n",
    "\n",
    ">**Note:** If you're finding it hard to dedicate enough time for this course each week, we've provided a small shortcut to this part of the project. In the next couple of problems, you'll have the option to use classes from the [TensorFlow Layers](https://www.tensorflow.org/api_docs/python/tf/layers) or [TensorFlow Layers (contrib)](https://www.tensorflow.org/api_guides/python/contrib.layers) packages to build each layer, except the layers you build in the \"Convolutional and Max Pooling Layer\" section.  TF Layers is similar to Keras's and TFLearn's abstraction to layers, so it's easy to pickup.\n",
    "\n",
    ">However, if you would like to get the most out of this course, try to solve all the problems _without_ using anything from the TF Layers packages. You **can** still use classes from other packages that happen to have the same name as ones you find in TF Layers! For example, instead of using the TF Layers version of the `conv2d` class, [tf.layers.conv2d](https://www.tensorflow.org/api_docs/python/tf/layers/conv2d), you would want to use the TF Neural Network version of `conv2d`, [tf.nn.conv2d](https://www.tensorflow.org/api_docs/python/tf/nn/conv2d). \n",
    "\n",
    "Let's begin!\n",
    "\n",
    "### Input\n",
    "The neural network needs to read the image data, one-hot encoded labels, and dropout keep probability. Implement the following functions\n",
    "* Implement `neural_net_image_input`\n",
    " * Return a [TF Placeholder](https://www.tensorflow.org/api_docs/python/tf/placeholder)\n",
    " * Set the shape using `image_shape` with batch size set to `None`.\n",
    " * Name the TensorFlow placeholder \"x\" using the TensorFlow `name` parameter in the [TF Placeholder](https://www.tensorflow.org/api_docs/python/tf/placeholder).\n",
    "* Implement `neural_net_label_input`\n",
    " * Return a [TF Placeholder](https://www.tensorflow.org/api_docs/python/tf/placeholder)\n",
    " * Set the shape using `n_classes` with batch size set to `None`.\n",
    " * Name the TensorFlow placeholder \"y\" using the TensorFlow `name` parameter in the [TF Placeholder](https://www.tensorflow.org/api_docs/python/tf/placeholder).\n",
    "* Implement `neural_net_keep_prob_input`\n",
    " * Return a [TF Placeholder](https://www.tensorflow.org/api_docs/python/tf/placeholder) for dropout keep probability.\n",
    " * Name the TensorFlow placeholder \"keep_prob\" using the TensorFlow `name` parameter in the [TF Placeholder](https://www.tensorflow.org/api_docs/python/tf/placeholder).\n",
    "\n",
    "These names will be used at the end of the project to load your saved model.\n",
    "\n",
    "Note: `None` for shapes in TensorFlow allow for a dynamic size."
   ]
  },
  {
   "cell_type": "code",
   "execution_count": 2,
   "metadata": {
    "collapsed": false,
    "deletable": true,
    "editable": true
   },
   "outputs": [
    {
     "name": "stdout",
     "output_type": "stream",
     "text": [
      "Image Input Tests Passed.\n",
      "Label Input Tests Passed.\n",
      "Keep Prob Tests Passed.\n"
     ]
    }
   ],
   "source": [
    "import tensorflow as tf\n",
    "\n",
    "def neural_net_image_input(image_shape):\n",
    "    \"\"\"\n",
    "    Return a Tensor for a bach of image input\n",
    "    : image_shape: Shape of the images\n",
    "    : return: Tensor for image input.\n",
    "    \"\"\"\n",
    "    # TODO: Implement Function\n",
    "    x, y, z = image_shape\n",
    "    \n",
    "    return tf.placeholder(tf.float32, shape=(None, x, y, z), name='x')\n",
    "\n",
    "\n",
    "def neural_net_label_input(n_classes):\n",
    "    \"\"\"\n",
    "    Return a Tensor for a batch of label input\n",
    "    : n_classes: Number of classes\n",
    "    : return: Tensor for label input.\n",
    "    \"\"\"\n",
    "    # TODO: Implement Function\n",
    "    return tf.placeholder(tf.float32, shape=(None, n_classes), name='y')\n",
    "\n",
    "\n",
    "def neural_net_keep_prob_input():\n",
    "    \"\"\"\n",
    "    Return a Tensor for keep probability\n",
    "    : return: Tensor for keep probability.\n",
    "    \"\"\"\n",
    "    # TODO: Implement Function \n",
    "    return tf.placeholder(tf.float32, shape=(None), name='keep_prob')\n",
    "\n",
    "\n",
    "\"\"\"\n",
    "DON'T MODIFY ANYTHING IN THIS CELL THAT IS BELOW THIS LINE\n",
    "\"\"\"\n",
    "tf.reset_default_graph()\n",
    "tests.test_nn_image_inputs(neural_net_image_input)\n",
    "tests.test_nn_label_inputs(neural_net_label_input)\n",
    "tests.test_nn_keep_prob_inputs(neural_net_keep_prob_input)"
   ]
  },
  {
   "cell_type": "markdown",
   "metadata": {
    "deletable": true,
    "editable": true
   },
   "source": [
    "### Convolution and Max Pooling Layer\n",
    "Convolution layers have a lot of success with images. For this code cell, you should implement the function `conv2d_maxpool` to apply convolution then max pooling:\n",
    "* Create the weight and bias using `conv_ksize`, `conv_num_outputs` and the shape of `x_tensor`.\n",
    "* Apply a convolution to `x_tensor` using weight and `conv_strides`.\n",
    " * We recommend you use same padding, but you're welcome to use any padding.\n",
    "* Add bias\n",
    "* Add a nonlinear activation to the convolution.\n",
    "* Apply Max Pooling using `pool_ksize` and `pool_strides`.\n",
    " * We recommend you use same padding, but you're welcome to use any padding.\n",
    "\n",
    "**Note:** You **can't** use [TensorFlow Layers](https://www.tensorflow.org/api_docs/python/tf/layers) or [TensorFlow Layers (contrib)](https://www.tensorflow.org/api_guides/python/contrib.layers) for **this** layer, but you can still use TensorFlow's [Neural Network](https://www.tensorflow.org/api_docs/python/tf/nn) package. You may still use the shortcut option for all the **other** layers."
   ]
  },
  {
   "cell_type": "code",
   "execution_count": 3,
   "metadata": {
    "collapsed": false,
    "deletable": true,
    "editable": true
   },
   "outputs": [
    {
     "name": "stdout",
     "output_type": "stream",
     "text": [
      "Tests Passed\n"
     ]
    }
   ],
   "source": [
    "def conv2d_maxpool(x_tensor, conv_num_outputs, conv_ksize, conv_strides, pool_ksize, pool_strides):\n",
    "    \"\"\"\n",
    "    Apply convolution then max pooling to x_tensor\n",
    "    :param x_tensor: TensorFlow Tensor\n",
    "    :param conv_num_outputs: Number of outputs for the convolutional layer\n",
    "    :param conv_ksize: kernal size 2-D Tuple for the convolutional layer\n",
    "    :param conv_strides: Stride 2-D Tuple for convolution\n",
    "    :param pool_ksize: kernal size 2-D Tuple for pool\n",
    "    :param pool_strides: Stride 2-D Tuple for pool\n",
    "    : return: A tensor that represents convolution and max pooling of x_tensor\n",
    "    \"\"\"\n",
    "    # TODO: Implement Function\n",
    "    x, y = conv_ksize\n",
    "    z = x_tensor.get_shape().as_list()[3]\n",
    "    W = tf.Variable(tf.truncated_normal([x, y, z, conv_num_outputs], stddev=0.001))\n",
    "    b = tf.Variable(tf.zeros([conv_num_outputs]))\n",
    "    \n",
    "    str1, str2 = conv_strides\n",
    "    layer = tf.nn.conv2d(x_tensor, W, strides=[1, str1, str2, 1], padding='SAME')\n",
    "    layer = tf.nn.bias_add(layer, b)\n",
    "    layer = tf.nn.relu(layer)\n",
    "    \n",
    "    psize1, psize2 = pool_ksize\n",
    "    pstr1, pstr2 = pool_strides\n",
    "    layer = tf.nn.max_pool(layer, ksize=[1, psize1, psize2, 1], strides=[1, pstr1, pstr2, 1], padding='SAME')\n",
    "    \n",
    "    return layer\n",
    "\n",
    "\n",
    "\"\"\"\n",
    "DON'T MODIFY ANYTHING IN THIS CELL THAT IS BELOW THIS LINE\n",
    "\"\"\"\n",
    "tests.test_con_pool(conv2d_maxpool)"
   ]
  },
  {
   "cell_type": "markdown",
   "metadata": {
    "deletable": true,
    "editable": true
   },
   "source": [
    "### Flatten Layer\n",
    "Implement the `flatten` function to change the dimension of `x_tensor` from a 4-D tensor to a 2-D tensor.  The output should be the shape (*Batch Size*, *Flattened Image Size*). Shortcut option: you can use classes from the [TensorFlow Layers](https://www.tensorflow.org/api_docs/python/tf/layers) or [TensorFlow Layers (contrib)](https://www.tensorflow.org/api_guides/python/contrib.layers) packages for this layer. For more of a challenge, only use other TensorFlow packages."
   ]
  },
  {
   "cell_type": "code",
   "execution_count": 4,
   "metadata": {
    "collapsed": false,
    "deletable": true,
    "editable": true
   },
   "outputs": [
    {
     "name": "stdout",
     "output_type": "stream",
     "text": [
      "Tests Passed\n"
     ]
    }
   ],
   "source": [
    "def flatten(x_tensor):\n",
    "    \"\"\"\n",
    "    Flatten x_tensor to (Batch Size, Flattened Image Size)\n",
    "    : x_tensor: A tensor of size (Batch Size, ...), where ... are the image dimensions.\n",
    "    : return: A tensor of size (Batch Size, Flattened Image Size).\n",
    "    \"\"\"\n",
    "    # TODO: Implement Function\n",
    "    dim1 = x_tensor.get_shape().as_list()[1]\n",
    "    dim2 = x_tensor.get_shape().as_list()[2]\n",
    "    dim3 = x_tensor.get_shape().as_list()[3]\n",
    "    return tf.reshape(x_tensor, [-1, dim1 * dim2 * dim3])\n",
    "\n",
    "\n",
    "\"\"\"\n",
    "DON'T MODIFY ANYTHING IN THIS CELL THAT IS BELOW THIS LINE\n",
    "\"\"\"\n",
    "tests.test_flatten(flatten)"
   ]
  },
  {
   "cell_type": "markdown",
   "metadata": {
    "deletable": true,
    "editable": true
   },
   "source": [
    "### Fully-Connected Layer\n",
    "Implement the `fully_conn` function to apply a fully connected layer to `x_tensor` with the shape (*Batch Size*, *num_outputs*). Shortcut option: you can use classes from the [TensorFlow Layers](https://www.tensorflow.org/api_docs/python/tf/layers) or [TensorFlow Layers (contrib)](https://www.tensorflow.org/api_guides/python/contrib.layers) packages for this layer. For more of a challenge, only use other TensorFlow packages."
   ]
  },
  {
   "cell_type": "code",
   "execution_count": 5,
   "metadata": {
    "collapsed": false,
    "deletable": true,
    "editable": true
   },
   "outputs": [
    {
     "name": "stdout",
     "output_type": "stream",
     "text": [
      "Tests Passed\n"
     ]
    }
   ],
   "source": [
    "def fully_conn(x_tensor, num_outputs):\n",
    "    \"\"\"\n",
    "    Apply a fully connected layer to x_tensor using weight and bias\n",
    "    : x_tensor: A 2-D tensor where the first dimension is batch size.\n",
    "    : num_outputs: The number of output that the new tensor should be.\n",
    "    : return: A 2-D tensor where the second dimension is num_outputs.\n",
    "    \"\"\"\n",
    "    # TODO: Implement Function\n",
    "    dim_input = x_tensor.get_shape().as_list()[1]\n",
    "    W = tf.Variable(tf.truncated_normal([dim_input, num_outputs], stddev=0.01))\n",
    "    b = tf.Variable(tf.zeros([num_outputs]))\n",
    "    return tf.nn.relu(tf.add(tf.matmul(x_tensor, W), b))\n",
    "\n",
    "\n",
    "\"\"\"\n",
    "DON'T MODIFY ANYTHING IN THIS CELL THAT IS BELOW THIS LINE\n",
    "\"\"\"\n",
    "tests.test_fully_conn(fully_conn)"
   ]
  },
  {
   "cell_type": "markdown",
   "metadata": {
    "deletable": true,
    "editable": true
   },
   "source": [
    "### Output Layer\n",
    "Implement the `output` function to apply a fully connected layer to `x_tensor` with the shape (*Batch Size*, *num_outputs*). Shortcut option: you can use classes from the [TensorFlow Layers](https://www.tensorflow.org/api_docs/python/tf/layers) or [TensorFlow Layers (contrib)](https://www.tensorflow.org/api_guides/python/contrib.layers) packages for this layer. For more of a challenge, only use other TensorFlow packages.\n",
    "\n",
    "**Note:** Activation, softmax, or cross entropy should **not** be applied to this."
   ]
  },
  {
   "cell_type": "code",
   "execution_count": 6,
   "metadata": {
    "collapsed": false,
    "deletable": true,
    "editable": true
   },
   "outputs": [
    {
     "name": "stdout",
     "output_type": "stream",
     "text": [
      "Tests Passed\n"
     ]
    }
   ],
   "source": [
    "def output(x_tensor, num_outputs):\n",
    "    \"\"\"\n",
    "    Apply a output layer to x_tensor using weight and bias\n",
    "    : x_tensor: A 2-D tensor where the first dimension is batch size.\n",
    "    : num_outputs: The number of output that the new tensor should be.\n",
    "    : return: A 2-D tensor where the second dimension is num_outputs.\n",
    "    \"\"\"\n",
    "    # TODO: Implement Function\n",
    "    dim_input = x_tensor.get_shape().as_list()[1]\n",
    "    W = tf.Variable(tf.truncated_normal([dim_input, num_outputs], stddev=0.01))\n",
    "    b = tf.Variable(tf.zeros([num_outputs]))\n",
    "    return tf.add(tf.matmul(x_tensor, W), b)\n",
    "\n",
    "\n",
    "\"\"\"\n",
    "DON'T MODIFY ANYTHING IN THIS CELL THAT IS BELOW THIS LINE\n",
    "\"\"\"\n",
    "tests.test_output(output)"
   ]
  },
  {
   "cell_type": "markdown",
   "metadata": {
    "deletable": true,
    "editable": true
   },
   "source": [
    "### Create Convolutional Model\n",
    "Implement the function `conv_net` to create a convolutional neural network model. The function takes in a batch of images, `x`, and outputs logits.  Use the layers you created above to create this model:\n",
    "\n",
    "* Apply 1, 2, or 3 Convolution and Max Pool layers\n",
    "* Apply a Flatten Layer\n",
    "* Apply 1, 2, or 3 Fully Connected Layers\n",
    "* Apply an Output Layer\n",
    "* Return the output\n",
    "* Apply [TensorFlow's Dropout](https://www.tensorflow.org/api_docs/python/tf/nn/dropout) to one or more layers in the model using `keep_prob`. "
   ]
  },
  {
   "cell_type": "code",
   "execution_count": 7,
   "metadata": {
    "collapsed": false,
    "deletable": true,
    "editable": true
   },
   "outputs": [
    {
     "name": "stdout",
     "output_type": "stream",
     "text": [
      "Neural Network Built!\n"
     ]
    }
   ],
   "source": [
    "def conv_net(x, keep_prob):\n",
    "    \"\"\"\n",
    "    Create a convolutional neural network model\n",
    "    : x: Placeholder tensor that holds image data.\n",
    "    : keep_prob: Placeholder tensor that hold dropout keep probability.\n",
    "    : return: Tensor that represents logits\n",
    "    \"\"\"\n",
    "    # TODO: Apply 1, 2, or 3 Convolution and Max Pool layers\n",
    "    #    Play around with different number of outputs, kernel size and stride\n",
    "    # Function Definition from Above:\n",
    "    #    conv2d_maxpool(x_tensor, conv_num_outputs, conv_ksize, conv_strides, pool_ksize, pool_strides)\n",
    "    conv1 = conv2d_maxpool(x, 32, (3, 3), (1, 1), (2, 2), (1, 1))\n",
    "    conv1 = tf.nn.dropout(conv1, keep_prob)\n",
    "    conv2 = conv2d_maxpool(conv1, 64, (5, 5), (1, 1), (3, 3), (2, 2))\n",
    "    conv2 = tf.nn.dropout(conv2, keep_prob)\n",
    "    #conv3 = conv2d_maxpool(conv2, 128, (3, 3), (1, 1), (2, 2), (1, 1))\n",
    "\n",
    "    # TODO: Apply a Flatten Layer\n",
    "    # Function Definition from Above:\n",
    "    #   flatten(x_tensor)\n",
    "    flat = flatten(conv2)\n",
    "\n",
    "    # TODO: Apply 1, 2, or 3 Fully Connected Layers\n",
    "    #    Play around with different number of outputs\n",
    "    # Function Definition from Above:\n",
    "    #   fully_conn(x_tensor, num_outputs)\n",
    "    fl1 = fully_conn(flat, 512)\n",
    "    fl1 =  tf.nn.dropout(fl1, keep_prob)\n",
    "    #fl2 = fully_conn(fl1, 512)\n",
    "    #fl2 =  tf.nn.dropout(fl2, keep_prob)\n",
    "    \n",
    "    # TODO: Apply an Output Layer\n",
    "    #    Set this to the number of classes\n",
    "    # Function Definition from Above:\n",
    "    #   output(x_tensor, num_outputs)\n",
    "    out = output(fl1, 10)\n",
    "    \n",
    "    # TODO: return output\n",
    "    return out\n",
    "\n",
    "\n",
    "\"\"\"\n",
    "DON'T MODIFY ANYTHING IN THIS CELL THAT IS BELOW THIS LINE\n",
    "\"\"\"\n",
    "\n",
    "##############################\n",
    "## Build the Neural Network ##\n",
    "##############################\n",
    "\n",
    "# Remove previous weights, bias, inputs, etc..\n",
    "tf.reset_default_graph()\n",
    "\n",
    "# Inputs\n",
    "x = neural_net_image_input((32, 32, 3))\n",
    "y = neural_net_label_input(10)\n",
    "keep_prob = neural_net_keep_prob_input()\n",
    "\n",
    "# Model\n",
    "logits = conv_net(x, keep_prob)\n",
    "\n",
    "# Name logits Tensor, so that is can be loaded from disk after training\n",
    "logits = tf.identity(logits, name='logits')\n",
    "\n",
    "# Loss and Optimizer\n",
    "cost = tf.reduce_mean(tf.nn.softmax_cross_entropy_with_logits(logits=logits, labels=y))\n",
    "optimizer = tf.train.AdamOptimizer().minimize(cost)\n",
    "\n",
    "# Accuracy\n",
    "correct_pred = tf.equal(tf.argmax(logits, 1), tf.argmax(y, 1))\n",
    "accuracy = tf.reduce_mean(tf.cast(correct_pred, tf.float32), name='accuracy')\n",
    "\n",
    "tests.test_conv_net(conv_net)"
   ]
  },
  {
   "cell_type": "markdown",
   "metadata": {
    "deletable": true,
    "editable": true
   },
   "source": [
    "## Train the Neural Network\n",
    "### Single Optimization\n",
    "Implement the function `train_neural_network` to do a single optimization.  The optimization should use `optimizer` to optimize in `session` with a `feed_dict` of the following:\n",
    "* `x` for image input\n",
    "* `y` for labels\n",
    "* `keep_prob` for keep probability for dropout\n",
    "\n",
    "This function will be called for each batch, so `tf.global_variables_initializer()` has already been called.\n",
    "\n",
    "Note: Nothing needs to be returned. This function is only optimizing the neural network."
   ]
  },
  {
   "cell_type": "code",
   "execution_count": 8,
   "metadata": {
    "collapsed": false,
    "deletable": true,
    "editable": true
   },
   "outputs": [
    {
     "name": "stdout",
     "output_type": "stream",
     "text": [
      "Tests Passed\n"
     ]
    }
   ],
   "source": [
    "def train_neural_network(session, optimizer, keep_probability, feature_batch, label_batch):\n",
    "    \"\"\"\n",
    "    Optimize the session on a batch of images and labels\n",
    "    : session: Current TensorFlow session\n",
    "    : optimizer: TensorFlow optimizer function\n",
    "    : keep_probability: keep probability\n",
    "    : feature_batch: Batch of Numpy image data\n",
    "    : label_batch: Batch of Numpy label data\n",
    "    \"\"\"\n",
    "    # TODO: Implement Function\n",
    "    session.run(optimizer, feed_dict={x: feature_batch, y: label_batch, keep_prob: keep_probability})\n",
    "\n",
    "\n",
    "\"\"\"\n",
    "DON'T MODIFY ANYTHING IN THIS CELL THAT IS BELOW THIS LINE\n",
    "\"\"\"\n",
    "tests.test_train_nn(train_neural_network)"
   ]
  },
  {
   "cell_type": "markdown",
   "metadata": {
    "deletable": true,
    "editable": true
   },
   "source": [
    "### Show Stats\n",
    "Implement the function `print_stats` to print loss and validation accuracy.  Use the global variables `valid_features` and `valid_labels` to calculate validation accuracy.  Use a keep probability of `1.0` to calculate the loss and validation accuracy."
   ]
  },
  {
   "cell_type": "code",
   "execution_count": 9,
   "metadata": {
    "collapsed": false,
    "deletable": true,
    "editable": true
   },
   "outputs": [],
   "source": [
    "def print_stats(session, feature_batch, label_batch, cost, accuracy):\n",
    "    \"\"\"\n",
    "    Print information about loss and validation accuracy\n",
    "    : session: Current TensorFlow session\n",
    "    : feature_batch: Batch of Numpy image data\n",
    "    : label_batch: Batch of Numpy label data\n",
    "    : cost: TensorFlow cost function\n",
    "    : accuracy: TensorFlow accuracy function\n",
    "    \"\"\"\n",
    "    cost_value = sess.run(cost, feed_dict={x: feature_batch, y: label_batch, keep_prob: 1.0})\n",
    "    accuracy_value = sess.run(accuracy, feed_dict={x: feature_batch, y: label_batch, keep_prob: 1.0})\n",
    "    valid_acc_cum = 0\n",
    "    valid_batch_cnt = 0\n",
    "    for validation_feature, validation_label in helper.batch_features_labels(valid_features, valid_labels, batch_size):\n",
    "        valid_acc_cum += sess.run(accuracy, feed_dict={x: validation_feature, y: validation_label, keep_prob: 1.0})\n",
    "        valid_batch_cnt += 1\n",
    "    valid_acc = valid_acc_cum / valid_batch_cnt\n",
    "    print('cost_value is {0}, while accuracy: {1}. Valid accuracy: {2}'.format(cost_value, accuracy_value, valid_acc))"
   ]
  },
  {
   "cell_type": "markdown",
   "metadata": {
    "deletable": true,
    "editable": true
   },
   "source": [
    "### Hyperparameters\n",
    "Tune the following parameters:\n",
    "* Set `epochs` to the number of iterations until the network stops learning or start overfitting\n",
    "* Set `batch_size` to the highest number that your machine has memory for.  Most people set them to common sizes of memory:\n",
    " * 64\n",
    " * 128\n",
    " * 256\n",
    " * ...\n",
    "* Set `keep_probability` to the probability of keeping a node using dropout"
   ]
  },
  {
   "cell_type": "code",
   "execution_count": 10,
   "metadata": {
    "collapsed": true,
    "deletable": true,
    "editable": true
   },
   "outputs": [],
   "source": [
    "# TODO: Tune Parameters\n",
    "epochs = 30\n",
    "batch_size = 64\n",
    "keep_probability = 0.65"
   ]
  },
  {
   "cell_type": "markdown",
   "metadata": {
    "deletable": true,
    "editable": true
   },
   "source": [
    "### Train on a Single CIFAR-10 Batch\n",
    "Instead of training the neural network on all the CIFAR-10 batches of data, let's use a single batch. This should save time while you iterate on the model to get a better accuracy.  Once the final validation accuracy is 50% or greater, run the model on all the data in the next section."
   ]
  },
  {
   "cell_type": "code",
   "execution_count": 11,
   "metadata": {
    "collapsed": false,
    "deletable": true,
    "editable": true,
    "scrolled": true
   },
   "outputs": [
    {
     "name": "stdout",
     "output_type": "stream",
     "text": [
      "Checking the Training on a Single Batch...\n",
      "Epoch  1, CIFAR-10 Batch 1:  cost_value is 2.1757020950317383, while accuracy: 0.20000000298023224. Valid accuracy: 0.2834256329113924\n",
      "Epoch  2, CIFAR-10 Batch 1:  cost_value is 2.0907669067382812, while accuracy: 0.20000000298023224. Valid accuracy: 0.3083465189873418\n",
      "Epoch  3, CIFAR-10 Batch 1:  cost_value is 2.1160175800323486, while accuracy: 0.30000001192092896. Valid accuracy: 0.30518196202531644\n",
      "Epoch  4, CIFAR-10 Batch 1:  cost_value is 2.0769474506378174, while accuracy: 0.22500000894069672. Valid accuracy: 0.34058544303797467\n",
      "Epoch  5, CIFAR-10 Batch 1:  cost_value is 2.0341076850891113, while accuracy: 0.2750000059604645. Valid accuracy: 0.35957278481012656\n",
      "Epoch  6, CIFAR-10 Batch 1:  cost_value is 1.9588757753372192, while accuracy: 0.32499998807907104. Valid accuracy: 0.3831091772151899\n",
      "Epoch  7, CIFAR-10 Batch 1:  cost_value is 1.910427451133728, while accuracy: 0.2750000059604645. Valid accuracy: 0.39556962025316456\n",
      "Epoch  8, CIFAR-10 Batch 1:  cost_value is 1.8155863285064697, while accuracy: 0.32499998807907104. Valid accuracy: 0.40130537974683544\n",
      "Epoch  9, CIFAR-10 Batch 1:  cost_value is 1.76973295211792, while accuracy: 0.40000003576278687. Valid accuracy: 0.4285996835443038\n",
      "Epoch 10, CIFAR-10 Batch 1:  cost_value is 1.6573073863983154, while accuracy: 0.40000003576278687. Valid accuracy: 0.442246835443038\n",
      "Epoch 11, CIFAR-10 Batch 1:  cost_value is 1.6289892196655273, while accuracy: 0.3999999761581421. Valid accuracy: 0.46024525316455694\n",
      "Epoch 12, CIFAR-10 Batch 1:  cost_value is 1.6216109991073608, while accuracy: 0.375. Valid accuracy: 0.4754746835443038\n",
      "Epoch 13, CIFAR-10 Batch 1:  cost_value is 1.517202615737915, while accuracy: 0.42499998211860657. Valid accuracy: 0.48358386075949367\n",
      "Epoch 14, CIFAR-10 Batch 1:  cost_value is 1.4570612907409668, while accuracy: 0.4750000238418579. Valid accuracy: 0.4833860759493671\n",
      "Epoch 15, CIFAR-10 Batch 1:  cost_value is 1.4416868686676025, while accuracy: 0.44999998807907104. Valid accuracy: 0.4788370253164557\n",
      "Epoch 16, CIFAR-10 Batch 1:  cost_value is 1.3523551225662231, while accuracy: 0.550000011920929. Valid accuracy: 0.49386867088607594\n",
      "Epoch 17, CIFAR-10 Batch 1:  cost_value is 1.3126919269561768, while accuracy: 0.6000000238418579. Valid accuracy: 0.5007911392405063\n",
      "Epoch 18, CIFAR-10 Batch 1:  cost_value is 1.276653528213501, while accuracy: 0.6000000238418579. Valid accuracy: 0.49841772151898733\n",
      "Epoch 19, CIFAR-10 Batch 1:  cost_value is 1.181902289390564, while accuracy: 0.574999988079071. Valid accuracy: 0.49287974683544306\n",
      "Epoch 20, CIFAR-10 Batch 1:  cost_value is 1.1582231521606445, while accuracy: 0.5750000476837158. Valid accuracy: 0.5031645569620253\n",
      "Epoch 21, CIFAR-10 Batch 1:  cost_value is 1.0606149435043335, while accuracy: 0.6250000596046448. Valid accuracy: 0.5067246835443038\n",
      "Epoch 22, CIFAR-10 Batch 1:  cost_value is 1.077014446258545, while accuracy: 0.675000011920929. Valid accuracy: 0.5019778481012658\n",
      "Epoch 23, CIFAR-10 Batch 1:  cost_value is 1.0701299905776978, while accuracy: 0.675000011920929. Valid accuracy: 0.5098892405063291\n",
      "Epoch 24, CIFAR-10 Batch 1:  cost_value is 0.9751594662666321, while accuracy: 0.7000000476837158. Valid accuracy: 0.5098892405063291\n",
      "Epoch 25, CIFAR-10 Batch 1:  cost_value is 0.8798789978027344, while accuracy: 0.75. Valid accuracy: 0.5045490506329114\n",
      "Epoch 26, CIFAR-10 Batch 1:  cost_value is 0.8689489364624023, while accuracy: 0.7999999523162842. Valid accuracy: 0.5102848101265823\n",
      "Epoch 27, CIFAR-10 Batch 1:  cost_value is 0.7817504405975342, while accuracy: 0.7250000238418579. Valid accuracy: 0.5096914556962026\n",
      "Epoch 28, CIFAR-10 Batch 1:  cost_value is 0.7880895137786865, while accuracy: 0.7750000357627869. Valid accuracy: 0.5114715189873418\n",
      "Epoch 29, CIFAR-10 Batch 1:  cost_value is 0.7749618887901306, while accuracy: 0.800000011920929. Valid accuracy: 0.5059335443037974\n",
      "Epoch 30, CIFAR-10 Batch 1:  cost_value is 0.7314141392707825, while accuracy: 0.8000000715255737. Valid accuracy: 0.5065268987341772\n"
     ]
    }
   ],
   "source": [
    "\"\"\"\n",
    "DON'T MODIFY ANYTHING IN THIS CELL\n",
    "\"\"\"\n",
    "print('Checking the Training on a Single Batch...')\n",
    "with tf.Session() as sess:\n",
    "    # Initializing the variables\n",
    "    sess.run(tf.global_variables_initializer())\n",
    "    \n",
    "    # Training cycle\n",
    "    for epoch in range(epochs):\n",
    "        batch_i = 1\n",
    "        for batch_features, batch_labels in helper.load_preprocess_training_batch(batch_i, batch_size):\n",
    "            train_neural_network(sess, optimizer, keep_probability, batch_features, batch_labels)\n",
    "        print('Epoch {:>2}, CIFAR-10 Batch {}:  '.format(epoch + 1, batch_i), end='')\n",
    "        print_stats(sess, batch_features, batch_labels, cost, accuracy)"
   ]
  },
  {
   "cell_type": "code",
   "execution_count": null,
   "metadata": {
    "collapsed": false,
    "deletable": true,
    "editable": true
   },
   "outputs": [],
   "source": []
  },
  {
   "cell_type": "markdown",
   "metadata": {
    "deletable": true,
    "editable": true
   },
   "source": [
    "### Fully Train the Model\n",
    "Now that you got a good accuracy with a single CIFAR-10 batch, try it with all five batches."
   ]
  },
  {
   "cell_type": "code",
   "execution_count": 12,
   "metadata": {
    "collapsed": false,
    "deletable": true,
    "editable": true,
    "scrolled": true
   },
   "outputs": [
    {
     "name": "stdout",
     "output_type": "stream",
     "text": [
      "Training...\n",
      "Epoch  1, CIFAR-10 Batch 1:  cost_value is 2.17792010307312, while accuracy: 0.20000000298023224. Valid accuracy: 0.28382120253164556\n",
      "Epoch  1, CIFAR-10 Batch 2:  cost_value is 2.046088457107544, while accuracy: 0.375. Valid accuracy: 0.31111550632911394\n",
      "Epoch  1, CIFAR-10 Batch 3:  cost_value is 1.636653184890747, while accuracy: 0.42500001192092896. Valid accuracy: 0.31981803797468356\n",
      "Epoch  1, CIFAR-10 Batch 4:  cost_value is 1.74293851852417, while accuracy: 0.32500001788139343. Valid accuracy: 0.34632120253164556\n",
      "Epoch  1, CIFAR-10 Batch 5:  cost_value is 1.9589898586273193, while accuracy: 0.2750000059604645. Valid accuracy: 0.3839003164556962\n",
      "Epoch  2, CIFAR-10 Batch 1:  cost_value is 1.9337642192840576, while accuracy: 0.375. Valid accuracy: 0.40229430379746833\n",
      "Epoch  2, CIFAR-10 Batch 2:  cost_value is 1.7298704385757446, while accuracy: 0.3500000238418579. Valid accuracy: 0.40545886075949367\n",
      "Epoch  2, CIFAR-10 Batch 3:  cost_value is 1.3548941612243652, while accuracy: 0.5. Valid accuracy: 0.42919303797468356\n",
      "Epoch  2, CIFAR-10 Batch 4:  cost_value is 1.5732009410858154, while accuracy: 0.3500000238418579. Valid accuracy: 0.4369066455696203\n",
      "Epoch  2, CIFAR-10 Batch 5:  cost_value is 1.6526353359222412, while accuracy: 0.45000001788139343. Valid accuracy: 0.4410601265822785\n",
      "Epoch  3, CIFAR-10 Batch 1:  cost_value is 1.7851016521453857, while accuracy: 0.4749999940395355. Valid accuracy: 0.4620253164556962\n",
      "Epoch  3, CIFAR-10 Batch 2:  cost_value is 1.535283088684082, while accuracy: 0.45000001788139343. Valid accuracy: 0.45708069620253167\n",
      "Epoch  3, CIFAR-10 Batch 3:  cost_value is 1.2238309383392334, while accuracy: 0.550000011920929. Valid accuracy: 0.4740901898734177\n",
      "Epoch  3, CIFAR-10 Batch 4:  cost_value is 1.4871445894241333, while accuracy: 0.42500001192092896. Valid accuracy: 0.48358386075949367\n",
      "Epoch  3, CIFAR-10 Batch 5:  cost_value is 1.4850928783416748, while accuracy: 0.550000011920929. Valid accuracy: 0.49980221518987344\n",
      "Epoch  4, CIFAR-10 Batch 1:  cost_value is 1.6811673641204834, while accuracy: 0.5. Valid accuracy: 0.497626582278481\n",
      "Epoch  4, CIFAR-10 Batch 2:  cost_value is 1.4033998250961304, while accuracy: 0.5249999761581421. Valid accuracy: 0.5096914556962026\n",
      "Epoch  4, CIFAR-10 Batch 3:  cost_value is 1.1456443071365356, while accuracy: 0.5999999642372131. Valid accuracy: 0.5106803797468354\n",
      "Epoch  4, CIFAR-10 Batch 4:  cost_value is 1.4396629333496094, while accuracy: 0.44999998807907104. Valid accuracy: 0.5027689873417721\n",
      "Epoch  4, CIFAR-10 Batch 5:  cost_value is 1.376013159751892, while accuracy: 0.550000011920929. Valid accuracy: 0.5221518987341772\n",
      "Epoch  5, CIFAR-10 Batch 1:  cost_value is 1.5567256212234497, while accuracy: 0.4749999940395355. Valid accuracy: 0.5160205696202531\n",
      "Epoch  5, CIFAR-10 Batch 2:  cost_value is 1.3315179347991943, while accuracy: 0.550000011920929. Valid accuracy: 0.528876582278481\n",
      "Epoch  5, CIFAR-10 Batch 3:  cost_value is 1.0865733623504639, while accuracy: 0.625. Valid accuracy: 0.525118670886076\n",
      "Epoch  5, CIFAR-10 Batch 4:  cost_value is 1.4029113054275513, while accuracy: 0.4749999940395355. Valid accuracy: 0.5249208860759493\n",
      "Epoch  5, CIFAR-10 Batch 5:  cost_value is 1.3653329610824585, while accuracy: 0.550000011920929. Valid accuracy: 0.525118670886076\n",
      "Epoch  6, CIFAR-10 Batch 1:  cost_value is 1.432694673538208, while accuracy: 0.5250000357627869. Valid accuracy: 0.528876582278481\n",
      "Epoch  6, CIFAR-10 Batch 2:  cost_value is 1.3251596689224243, while accuracy: 0.550000011920929. Valid accuracy: 0.5296677215189873\n",
      "Epoch  6, CIFAR-10 Batch 3:  cost_value is 1.1366899013519287, while accuracy: 0.6500000357627869. Valid accuracy: 0.5318433544303798\n",
      "Epoch  6, CIFAR-10 Batch 4:  cost_value is 1.2805047035217285, while accuracy: 0.5250000357627869. Valid accuracy: 0.5419303797468354\n",
      "Epoch  6, CIFAR-10 Batch 5:  cost_value is 1.2800722122192383, while accuracy: 0.550000011920929. Valid accuracy: 0.5488528481012658\n",
      "Epoch  7, CIFAR-10 Batch 1:  cost_value is 1.394641399383545, while accuracy: 0.4750000238418579. Valid accuracy: 0.5446993670886076\n",
      "Epoch  7, CIFAR-10 Batch 2:  cost_value is 1.2076969146728516, while accuracy: 0.5750000476837158. Valid accuracy: 0.5518196202531646\n",
      "Epoch  7, CIFAR-10 Batch 3:  cost_value is 1.002305030822754, while accuracy: 0.5999999642372131. Valid accuracy: 0.5506329113924051\n",
      "Epoch  7, CIFAR-10 Batch 4:  cost_value is 1.2445417642593384, while accuracy: 0.550000011920929. Valid accuracy: 0.5522151898734177\n",
      "Epoch  7, CIFAR-10 Batch 5:  cost_value is 1.2050350904464722, while accuracy: 0.625. Valid accuracy: 0.5547863924050633\n",
      "Epoch  8, CIFAR-10 Batch 1:  cost_value is 1.340417742729187, while accuracy: 0.5249999761581421. Valid accuracy: 0.5575553797468354\n",
      "Epoch  8, CIFAR-10 Batch 2:  cost_value is 1.1402695178985596, while accuracy: 0.5750000476837158. Valid accuracy: 0.5514240506329114\n",
      "Epoch  8, CIFAR-10 Batch 3:  cost_value is 1.027239203453064, while accuracy: 0.5999999642372131. Valid accuracy: 0.5579509493670886\n",
      "Epoch  8, CIFAR-10 Batch 4:  cost_value is 1.2172753810882568, while accuracy: 0.550000011920929. Valid accuracy: 0.5634889240506329\n",
      "Epoch  8, CIFAR-10 Batch 5:  cost_value is 1.1211719512939453, while accuracy: 0.625. Valid accuracy: 0.5640822784810127\n",
      "Epoch  9, CIFAR-10 Batch 1:  cost_value is 1.2837660312652588, while accuracy: 0.5. Valid accuracy: 0.5664556962025317\n",
      "Epoch  9, CIFAR-10 Batch 2:  cost_value is 1.0902957916259766, while accuracy: 0.6749999523162842. Valid accuracy: 0.5680379746835443\n",
      "Epoch  9, CIFAR-10 Batch 3:  cost_value is 0.9682589173316956, while accuracy: 0.6500000357627869. Valid accuracy: 0.5741693037974683\n",
      "Epoch  9, CIFAR-10 Batch 4:  cost_value is 1.1882410049438477, while accuracy: 0.6000000238418579. Valid accuracy: 0.5737737341772152\n",
      "Epoch  9, CIFAR-10 Batch 5:  cost_value is 1.0837280750274658, while accuracy: 0.6500000357627869. Valid accuracy: 0.5690268987341772\n",
      "Epoch 10, CIFAR-10 Batch 1:  cost_value is 1.2738887071609497, while accuracy: 0.550000011920929. Valid accuracy: 0.5680379746835443\n",
      "Epoch 10, CIFAR-10 Batch 2:  cost_value is 1.0680735111236572, while accuracy: 0.675000011920929. Valid accuracy: 0.571004746835443\n",
      "Epoch 10, CIFAR-10 Batch 3:  cost_value is 0.9145280122756958, while accuracy: 0.6500000357627869. Valid accuracy: 0.5793117088607594\n",
      "Epoch 10, CIFAR-10 Batch 4:  cost_value is 1.1999551057815552, while accuracy: 0.6000000238418579. Valid accuracy: 0.573378164556962\n",
      "Epoch 10, CIFAR-10 Batch 5:  cost_value is 1.043853759765625, while accuracy: 0.7000000476837158. Valid accuracy: 0.5862341772151899\n",
      "Epoch 11, CIFAR-10 Batch 1:  cost_value is 1.2326503992080688, while accuracy: 0.5250000357627869. Valid accuracy: 0.5820806962025317\n",
      "Epoch 11, CIFAR-10 Batch 2:  cost_value is 0.9845826625823975, while accuracy: 0.6499999761581421. Valid accuracy: 0.5862341772151899\n",
      "Epoch 11, CIFAR-10 Batch 3:  cost_value is 0.9242277145385742, while accuracy: 0.675000011920929. Valid accuracy: 0.5864319620253164\n",
      "Epoch 11, CIFAR-10 Batch 4:  cost_value is 1.2181257009506226, while accuracy: 0.6000000238418579. Valid accuracy: 0.5739715189873418\n",
      "Epoch 11, CIFAR-10 Batch 5:  cost_value is 0.9741067290306091, while accuracy: 0.75. Valid accuracy: 0.59375\n",
      "Epoch 12, CIFAR-10 Batch 1:  cost_value is 1.1924302577972412, while accuracy: 0.5250000357627869. Valid accuracy: 0.5838607594936709\n",
      "Epoch 12, CIFAR-10 Batch 2:  cost_value is 0.9736006259918213, while accuracy: 0.675000011920929. Valid accuracy: 0.5901898734177216\n",
      "Epoch 12, CIFAR-10 Batch 3:  cost_value is 0.9039348363876343, while accuracy: 0.6499999761581421. Valid accuracy: 0.6002768987341772\n",
      "Epoch 12, CIFAR-10 Batch 4:  cost_value is 1.114625096321106, while accuracy: 0.5750000476837158. Valid accuracy: 0.5826740506329114\n",
      "Epoch 12, CIFAR-10 Batch 5:  cost_value is 0.9905732870101929, while accuracy: 0.7750000357627869. Valid accuracy: 0.5994857594936709\n",
      "Epoch 13, CIFAR-10 Batch 1:  cost_value is 1.1954677104949951, while accuracy: 0.5250000357627869. Valid accuracy: 0.5874208860759493\n",
      "Epoch 13, CIFAR-10 Batch 2:  cost_value is 0.9868468046188354, while accuracy: 0.675000011920929. Valid accuracy: 0.5969145569620253\n",
      "Epoch 13, CIFAR-10 Batch 3:  cost_value is 0.8667097091674805, while accuracy: 0.7250000238418579. Valid accuracy: 0.6014636075949367\n",
      "Epoch 13, CIFAR-10 Batch 4:  cost_value is 1.0502820014953613, while accuracy: 0.5750000476837158. Valid accuracy: 0.5899920886075949\n",
      "Epoch 13, CIFAR-10 Batch 5:  cost_value is 0.9892458915710449, while accuracy: 0.75. Valid accuracy: 0.6018591772151899\n",
      "Epoch 14, CIFAR-10 Batch 1:  cost_value is 1.1729496717453003, while accuracy: 0.574999988079071. Valid accuracy: 0.5931566455696202\n",
      "Epoch 14, CIFAR-10 Batch 2:  cost_value is 0.9102484583854675, while accuracy: 0.7000000476837158. Valid accuracy: 0.598496835443038\n",
      "Epoch 14, CIFAR-10 Batch 3:  cost_value is 0.8372260332107544, while accuracy: 0.7250000238418579. Valid accuracy: 0.6068037974683544\n",
      "Epoch 14, CIFAR-10 Batch 4:  cost_value is 0.9931687116622925, while accuracy: 0.6000000238418579. Valid accuracy: 0.5793117088607594\n",
      "Epoch 14, CIFAR-10 Batch 5:  cost_value is 0.9338568449020386, while accuracy: 0.7500000596046448. Valid accuracy: 0.5923655063291139\n",
      "Epoch 15, CIFAR-10 Batch 1:  cost_value is 1.125467300415039, while accuracy: 0.5750000476837158. Valid accuracy: 0.5947389240506329\n",
      "Epoch 15, CIFAR-10 Batch 2:  cost_value is 0.9085991382598877, while accuracy: 0.75. Valid accuracy: 0.6018591772151899\n",
      "Epoch 15, CIFAR-10 Batch 3:  cost_value is 0.8357462286949158, while accuracy: 0.7749999761581421. Valid accuracy: 0.602254746835443\n",
      "Epoch 15, CIFAR-10 Batch 4:  cost_value is 0.9530408978462219, while accuracy: 0.6750000715255737. Valid accuracy: 0.5905854430379747\n",
      "Epoch 15, CIFAR-10 Batch 5:  cost_value is 0.8993240594863892, while accuracy: 0.7250000238418579. Valid accuracy: 0.6018591772151899\n",
      "Epoch 16, CIFAR-10 Batch 1:  cost_value is 1.1160255670547485, while accuracy: 0.6000000238418579. Valid accuracy: 0.5945411392405063\n",
      "Epoch 16, CIFAR-10 Batch 2:  cost_value is 0.8619457483291626, while accuracy: 0.7250000238418579. Valid accuracy: 0.6026503164556962\n",
      "Epoch 16, CIFAR-10 Batch 3:  cost_value is 0.748599648475647, while accuracy: 0.7000000476837158. Valid accuracy: 0.6083860759493671\n",
      "Epoch 16, CIFAR-10 Batch 4:  cost_value is 0.9841827154159546, while accuracy: 0.6750000715255737. Valid accuracy: 0.6006724683544303\n",
      "Epoch 16, CIFAR-10 Batch 5:  cost_value is 0.8368426561355591, while accuracy: 0.7750000953674316. Valid accuracy: 0.6105617088607594\n",
      "Epoch 17, CIFAR-10 Batch 1:  cost_value is 1.1138075590133667, while accuracy: 0.550000011920929. Valid accuracy: 0.6006724683544303\n",
      "Epoch 17, CIFAR-10 Batch 2:  cost_value is 0.8027867078781128, while accuracy: 0.7250000238418579. Valid accuracy: 0.6109572784810127\n",
      "Epoch 17, CIFAR-10 Batch 3:  cost_value is 0.7927101254463196, while accuracy: 0.7000000476837158. Valid accuracy: 0.6174841772151899\n",
      "Epoch 17, CIFAR-10 Batch 4:  cost_value is 0.8720628023147583, while accuracy: 0.675000011920929. Valid accuracy: 0.6016613924050633\n",
      "Epoch 17, CIFAR-10 Batch 5:  cost_value is 0.8578620553016663, while accuracy: 0.8000000715255737. Valid accuracy: 0.6119462025316456\n",
      "Epoch 18, CIFAR-10 Batch 1:  cost_value is 1.0286083221435547, while accuracy: 0.6750000715255737. Valid accuracy: 0.6066060126582279\n",
      "Epoch 18, CIFAR-10 Batch 2:  cost_value is 0.8489186763763428, while accuracy: 0.75. Valid accuracy: 0.6168908227848101\n",
      "Epoch 18, CIFAR-10 Batch 3:  cost_value is 0.732993483543396, while accuracy: 0.8000000715255737. Valid accuracy: 0.6147151898734177\n",
      "Epoch 18, CIFAR-10 Batch 4:  cost_value is 0.8548710346221924, while accuracy: 0.7000000476837158. Valid accuracy: 0.5957278481012658\n",
      "Epoch 18, CIFAR-10 Batch 5:  cost_value is 0.9638867974281311, while accuracy: 0.7250000238418579. Valid accuracy: 0.5971123417721519\n",
      "Epoch 19, CIFAR-10 Batch 1:  cost_value is 0.9694057703018188, while accuracy: 0.6499999761581421. Valid accuracy: 0.6172863924050633\n",
      "Epoch 19, CIFAR-10 Batch 2:  cost_value is 0.8247500061988831, while accuracy: 0.675000011920929. Valid accuracy: 0.6170886075949367\n",
      "Epoch 19, CIFAR-10 Batch 3:  cost_value is 0.7243290543556213, while accuracy: 0.7750000357627869. Valid accuracy: 0.6283623417721519\n",
      "Epoch 19, CIFAR-10 Batch 4:  cost_value is 0.7885936498641968, while accuracy: 0.7000000476837158. Valid accuracy: 0.6089794303797469\n",
      "Epoch 19, CIFAR-10 Batch 5:  cost_value is 0.8031916618347168, while accuracy: 0.7750000357627869. Valid accuracy: 0.6265822784810127\n",
      "Epoch 20, CIFAR-10 Batch 1:  cost_value is 0.9600017070770264, while accuracy: 0.625. Valid accuracy: 0.6168908227848101\n",
      "Epoch 20, CIFAR-10 Batch 2:  cost_value is 0.7743706703186035, while accuracy: 0.7749999761581421. Valid accuracy: 0.6204509493670886\n",
      "Epoch 20, CIFAR-10 Batch 3:  cost_value is 0.7010513544082642, while accuracy: 0.875. Valid accuracy: 0.6263844936708861\n",
      "Epoch 20, CIFAR-10 Batch 4:  cost_value is 0.7840582728385925, while accuracy: 0.7250000238418579. Valid accuracy: 0.6159018987341772\n",
      "Epoch 20, CIFAR-10 Batch 5:  cost_value is 0.7797513008117676, while accuracy: 0.8250000476837158. Valid accuracy: 0.6109572784810127\n",
      "Epoch 21, CIFAR-10 Batch 1:  cost_value is 0.9202705025672913, while accuracy: 0.6499999761581421. Valid accuracy: 0.6200553797468354\n",
      "Epoch 21, CIFAR-10 Batch 2:  cost_value is 0.7475547790527344, while accuracy: 0.7250000238418579. Valid accuracy: 0.6066060126582279\n",
      "Epoch 21, CIFAR-10 Batch 3:  cost_value is 0.719505250453949, while accuracy: 0.75. Valid accuracy: 0.6323180379746836\n",
      "Epoch 21, CIFAR-10 Batch 4:  cost_value is 0.7720276117324829, while accuracy: 0.7000000476837158. Valid accuracy: 0.6137262658227848\n",
      "Epoch 21, CIFAR-10 Batch 5:  cost_value is 0.7560335993766785, while accuracy: 0.8250000476837158. Valid accuracy: 0.6168908227848101\n",
      "Epoch 22, CIFAR-10 Batch 1:  cost_value is 0.9315786361694336, while accuracy: 0.7250000238418579. Valid accuracy: 0.6151107594936709\n",
      "Epoch 22, CIFAR-10 Batch 2:  cost_value is 0.7243445515632629, while accuracy: 0.8250000476837158. Valid accuracy: 0.6242088607594937\n",
      "Epoch 22, CIFAR-10 Batch 3:  cost_value is 0.6462612152099609, while accuracy: 0.8000000715255737. Valid accuracy: 0.6238132911392406\n",
      "Epoch 22, CIFAR-10 Batch 4:  cost_value is 0.742915153503418, while accuracy: 0.7250000238418579. Valid accuracy: 0.6004746835443038\n",
      "Epoch 22, CIFAR-10 Batch 5:  cost_value is 0.7063590288162231, while accuracy: 0.8250000476837158. Valid accuracy: 0.6240110759493671\n",
      "Epoch 23, CIFAR-10 Batch 1:  cost_value is 0.8657100796699524, while accuracy: 0.7000000476837158. Valid accuracy: 0.6111550632911392\n",
      "Epoch 23, CIFAR-10 Batch 2:  cost_value is 0.7097926139831543, while accuracy: 0.7750000357627869. Valid accuracy: 0.622626582278481\n",
      "Epoch 23, CIFAR-10 Batch 3:  cost_value is 0.6608279347419739, while accuracy: 0.8250000476837158. Valid accuracy: 0.633504746835443\n",
      "Epoch 23, CIFAR-10 Batch 4:  cost_value is 0.7202173471450806, while accuracy: 0.7749999761581421. Valid accuracy: 0.6212420886075949\n",
      "Epoch 23, CIFAR-10 Batch 5:  cost_value is 0.7309825420379639, while accuracy: 0.7750000357627869. Valid accuracy: 0.6293512658227848\n",
      "Epoch 24, CIFAR-10 Batch 1:  cost_value is 0.8653613328933716, while accuracy: 0.675000011920929. Valid accuracy: 0.622626582278481\n",
      "Epoch 24, CIFAR-10 Batch 2:  cost_value is 0.7202383875846863, while accuracy: 0.7749999761581421. Valid accuracy: 0.6333069620253164\n",
      "Epoch 24, CIFAR-10 Batch 3:  cost_value is 0.6305160522460938, while accuracy: 0.8250000476837158. Valid accuracy: 0.6350870253164557\n",
      "Epoch 24, CIFAR-10 Batch 4:  cost_value is 0.7182532548904419, while accuracy: 0.7250000238418579. Valid accuracy: 0.6133306962025317\n",
      "Epoch 24, CIFAR-10 Batch 5:  cost_value is 0.7105119824409485, while accuracy: 0.8500000238418579. Valid accuracy: 0.6244066455696202\n",
      "Epoch 25, CIFAR-10 Batch 1:  cost_value is 0.8222002983093262, while accuracy: 0.6750000715255737. Valid accuracy: 0.6147151898734177\n",
      "Epoch 25, CIFAR-10 Batch 2:  cost_value is 0.6536421775817871, while accuracy: 0.75. Valid accuracy: 0.6285601265822784\n",
      "Epoch 25, CIFAR-10 Batch 3:  cost_value is 0.6316636204719543, while accuracy: 0.7749999761581421. Valid accuracy: 0.634493670886076\n",
      "Epoch 25, CIFAR-10 Batch 4:  cost_value is 0.6459890604019165, while accuracy: 0.7749999761581421. Valid accuracy: 0.6206487341772152\n",
      "Epoch 25, CIFAR-10 Batch 5:  cost_value is 0.7245913743972778, while accuracy: 0.7749999761581421. Valid accuracy: 0.6244066455696202\n",
      "Epoch 26, CIFAR-10 Batch 1:  cost_value is 0.7510548233985901, while accuracy: 0.7000000476837158. Valid accuracy: 0.6263844936708861\n",
      "Epoch 26, CIFAR-10 Batch 2:  cost_value is 0.6347923278808594, while accuracy: 0.8250000476837158. Valid accuracy: 0.6331091772151899\n",
      "Epoch 26, CIFAR-10 Batch 3:  cost_value is 0.5894336700439453, while accuracy: 0.8000000715255737. Valid accuracy: 0.6301424050632911\n",
      "Epoch 26, CIFAR-10 Batch 4:  cost_value is 0.6875119209289551, while accuracy: 0.8000000715255737. Valid accuracy: 0.629746835443038\n",
      "Epoch 26, CIFAR-10 Batch 5:  cost_value is 0.6847144961357117, while accuracy: 0.8500000238418579. Valid accuracy: 0.6259889240506329\n",
      "Epoch 27, CIFAR-10 Batch 1:  cost_value is 0.7580793499946594, while accuracy: 0.7000000476837158. Valid accuracy: 0.6244066455696202\n",
      "Epoch 27, CIFAR-10 Batch 2:  cost_value is 0.6110131740570068, while accuracy: 0.8250000476837158. Valid accuracy: 0.6337025316455697\n",
      "Epoch 27, CIFAR-10 Batch 3:  cost_value is 0.5995979905128479, while accuracy: 0.8250000476837158. Valid accuracy: 0.622626582278481\n",
      "Epoch 27, CIFAR-10 Batch 4:  cost_value is 0.5866711139678955, while accuracy: 0.8500000238418579. Valid accuracy: 0.6301424050632911\n",
      "Epoch 27, CIFAR-10 Batch 5:  cost_value is 0.6385825872421265, while accuracy: 0.875. Valid accuracy: 0.6317246835443038\n",
      "Epoch 28, CIFAR-10 Batch 1:  cost_value is 0.7432553768157959, while accuracy: 0.7250000238418579. Valid accuracy: 0.6364715189873418\n",
      "Epoch 28, CIFAR-10 Batch 2:  cost_value is 0.6187330484390259, while accuracy: 0.8000000715255737. Valid accuracy: 0.6340981012658228\n",
      "Epoch 28, CIFAR-10 Batch 3:  cost_value is 0.6321091055870056, while accuracy: 0.7749999761581421. Valid accuracy: 0.6222310126582279\n",
      "Epoch 28, CIFAR-10 Batch 4:  cost_value is 0.7167336344718933, while accuracy: 0.7500000596046448. Valid accuracy: 0.6285601265822784\n",
      "Epoch 28, CIFAR-10 Batch 5:  cost_value is 0.5625108480453491, while accuracy: 0.8999999761581421. Valid accuracy: 0.6449762658227848\n",
      "Epoch 29, CIFAR-10 Batch 1:  cost_value is 0.7120282649993896, while accuracy: 0.8000000715255737. Valid accuracy: 0.6339003164556962\n",
      "Epoch 29, CIFAR-10 Batch 2:  cost_value is 0.582473874092102, while accuracy: 0.8000000715255737. Valid accuracy: 0.632120253164557\n",
      "Epoch 29, CIFAR-10 Batch 3:  cost_value is 0.5642984509468079, while accuracy: 0.8250000476837158. Valid accuracy: 0.6400316455696202\n",
      "Epoch 29, CIFAR-10 Batch 4:  cost_value is 0.6352554559707642, while accuracy: 0.8000000715255737. Valid accuracy: 0.6356803797468354\n",
      "Epoch 29, CIFAR-10 Batch 5:  cost_value is 0.5835105776786804, while accuracy: 0.8500000238418579. Valid accuracy: 0.642998417721519\n",
      "Epoch 30, CIFAR-10 Batch 1:  cost_value is 0.6843757629394531, while accuracy: 0.7750000357627869. Valid accuracy: 0.6354825949367089\n",
      "Epoch 30, CIFAR-10 Batch 2:  cost_value is 0.6327295303344727, while accuracy: 0.8000000715255737. Valid accuracy: 0.6428006329113924\n",
      "Epoch 30, CIFAR-10 Batch 3:  cost_value is 0.5319335460662842, while accuracy: 0.8500000238418579. Valid accuracy: 0.6295490506329114\n",
      "Epoch 30, CIFAR-10 Batch 4:  cost_value is 0.6188318729400635, while accuracy: 0.8250000476837158. Valid accuracy: 0.6291534810126582\n",
      "Epoch 30, CIFAR-10 Batch 5:  cost_value is 0.559355616569519, while accuracy: 0.8500000238418579. Valid accuracy: 0.6374604430379747\n"
     ]
    },
    {
     "ename": "ResourceExhaustedError",
     "evalue": "image_classification.data-00000-of-00001.tempstate18160876127966645803\n\t [[Node: save/SaveV2 = SaveV2[dtypes=[DT_FLOAT, DT_FLOAT, DT_FLOAT, DT_FLOAT, DT_FLOAT, DT_FLOAT, DT_FLOAT, DT_FLOAT, DT_FLOAT, DT_FLOAT, DT_FLOAT, DT_FLOAT, DT_FLOAT, DT_FLOAT, DT_FLOAT, DT_FLOAT, DT_FLOAT, DT_FLOAT, DT_FLOAT, DT_FLOAT, DT_FLOAT, DT_FLOAT, DT_FLOAT, DT_FLOAT, DT_FLOAT, DT_FLOAT, DT_FLOAT, DT_FLOAT, DT_FLOAT, DT_FLOAT, DT_FLOAT, DT_FLOAT, DT_FLOAT, DT_FLOAT], _device=\"/job:localhost/replica:0/task:0/cpu:0\"](_recv_save/Const_0, save/SaveV2/tensor_names, save/SaveV2/shape_and_slices, Variable/_33, Variable/Adam/_35, Variable/Adam_1/_37, Variable_1/_39, Variable_1/Adam/_41, Variable_1/Adam_1/_43, Variable_10/_45, Variable_11/_47, Variable_12/_49, Variable_13/_51, Variable_14/_53, Variable_15/_55, Variable_2/_57, Variable_2/Adam/_59, Variable_2/Adam_1/_61, Variable_3/_63, Variable_3/Adam/_65, Variable_3/Adam_1/_67, Variable_4/_69, Variable_4/Adam/_71, Variable_4/Adam_1/_73, Variable_5/_75, Variable_5/Adam/_77, Variable_5/Adam_1/_79, Variable_6/_81, Variable_6/Adam/_83, Variable_6/Adam_1/_85, Variable_7/_87, Variable_7/Adam/_89, Variable_7/Adam_1/_91, Variable_8/_93, Variable_9/_95, beta1_power/_97, beta2_power/_99)]]\n\nCaused by op 'save/SaveV2', defined at:\n  File \"/home/carnd/anaconda3/envs/dl/lib/python3.5/runpy.py\", line 184, in _run_module_as_main\n    \"__main__\", mod_spec)\n  File \"/home/carnd/anaconda3/envs/dl/lib/python3.5/runpy.py\", line 85, in _run_code\n    exec(code, run_globals)\n  File \"/home/carnd/anaconda3/envs/dl/lib/python3.5/site-packages/ipykernel/__main__.py\", line 3, in <module>\n    app.launch_new_instance()\n  File \"/home/carnd/anaconda3/envs/dl/lib/python3.5/site-packages/traitlets/config/application.py\", line 658, in launch_instance\n    app.start()\n  File \"/home/carnd/anaconda3/envs/dl/lib/python3.5/site-packages/ipykernel/kernelapp.py\", line 474, in start\n    ioloop.IOLoop.instance().start()\n  File \"/home/carnd/anaconda3/envs/dl/lib/python3.5/site-packages/zmq/eventloop/ioloop.py\", line 177, in start\n    super(ZMQIOLoop, self).start()\n  File \"/home/carnd/anaconda3/envs/dl/lib/python3.5/site-packages/tornado/ioloop.py\", line 887, in start\n    handler_func(fd_obj, events)\n  File \"/home/carnd/anaconda3/envs/dl/lib/python3.5/site-packages/tornado/stack_context.py\", line 275, in null_wrapper\n    return fn(*args, **kwargs)\n  File \"/home/carnd/anaconda3/envs/dl/lib/python3.5/site-packages/zmq/eventloop/zmqstream.py\", line 440, in _handle_events\n    self._handle_recv()\n  File \"/home/carnd/anaconda3/envs/dl/lib/python3.5/site-packages/zmq/eventloop/zmqstream.py\", line 472, in _handle_recv\n    self._run_callback(callback, msg)\n  File \"/home/carnd/anaconda3/envs/dl/lib/python3.5/site-packages/zmq/eventloop/zmqstream.py\", line 414, in _run_callback\n    callback(*args, **kwargs)\n  File \"/home/carnd/anaconda3/envs/dl/lib/python3.5/site-packages/tornado/stack_context.py\", line 275, in null_wrapper\n    return fn(*args, **kwargs)\n  File \"/home/carnd/anaconda3/envs/dl/lib/python3.5/site-packages/ipykernel/kernelbase.py\", line 276, in dispatcher\n    return self.dispatch_shell(stream, msg)\n  File \"/home/carnd/anaconda3/envs/dl/lib/python3.5/site-packages/ipykernel/kernelbase.py\", line 228, in dispatch_shell\n    handler(stream, idents, msg)\n  File \"/home/carnd/anaconda3/envs/dl/lib/python3.5/site-packages/ipykernel/kernelbase.py\", line 390, in execute_request\n    user_expressions, allow_stdin)\n  File \"/home/carnd/anaconda3/envs/dl/lib/python3.5/site-packages/ipykernel/ipkernel.py\", line 196, in do_execute\n    res = shell.run_cell(code, store_history=store_history, silent=silent)\n  File \"/home/carnd/anaconda3/envs/dl/lib/python3.5/site-packages/ipykernel/zmqshell.py\", line 501, in run_cell\n    return super(ZMQInteractiveShell, self).run_cell(*args, **kwargs)\n  File \"/home/carnd/anaconda3/envs/dl/lib/python3.5/site-packages/IPython/core/interactiveshell.py\", line 2717, in run_cell\n    interactivity=interactivity, compiler=compiler, result=result)\n  File \"/home/carnd/anaconda3/envs/dl/lib/python3.5/site-packages/IPython/core/interactiveshell.py\", line 2821, in run_ast_nodes\n    if self.run_code(code, result):\n  File \"/home/carnd/anaconda3/envs/dl/lib/python3.5/site-packages/IPython/core/interactiveshell.py\", line 2881, in run_code\n    exec(code_obj, self.user_global_ns, self.user_ns)\n  File \"<ipython-input-12-9df3032ebe9d>\", line 22, in <module>\n    saver = tf.train.Saver()\n  File \"/home/carnd/anaconda3/envs/dl/lib/python3.5/site-packages/tensorflow/python/training/saver.py\", line 1051, in __init__\n    self.build()\n  File \"/home/carnd/anaconda3/envs/dl/lib/python3.5/site-packages/tensorflow/python/training/saver.py\", line 1081, in build\n    restore_sequentially=self._restore_sequentially)\n  File \"/home/carnd/anaconda3/envs/dl/lib/python3.5/site-packages/tensorflow/python/training/saver.py\", line 673, in build\n    save_tensor = self._AddSaveOps(filename_tensor, saveables)\n  File \"/home/carnd/anaconda3/envs/dl/lib/python3.5/site-packages/tensorflow/python/training/saver.py\", line 271, in _AddSaveOps\n    save = self.save_op(filename_tensor, saveables)\n  File \"/home/carnd/anaconda3/envs/dl/lib/python3.5/site-packages/tensorflow/python/training/saver.py\", line 214, in save_op\n    tensors)\n  File \"/home/carnd/anaconda3/envs/dl/lib/python3.5/site-packages/tensorflow/python/ops/gen_io_ops.py\", line 779, in save_v2\n    tensors=tensors, name=name)\n  File \"/home/carnd/anaconda3/envs/dl/lib/python3.5/site-packages/tensorflow/python/framework/op_def_library.py\", line 763, in apply_op\n    op_def=op_def)\n  File \"/home/carnd/anaconda3/envs/dl/lib/python3.5/site-packages/tensorflow/python/framework/ops.py\", line 2395, in create_op\n    original_op=self._default_original_op, op_def=op_def)\n  File \"/home/carnd/anaconda3/envs/dl/lib/python3.5/site-packages/tensorflow/python/framework/ops.py\", line 1264, in __init__\n    self._traceback = _extract_stack()\n\nResourceExhaustedError (see above for traceback): image_classification.data-00000-of-00001.tempstate18160876127966645803\n\t [[Node: save/SaveV2 = SaveV2[dtypes=[DT_FLOAT, DT_FLOAT, DT_FLOAT, DT_FLOAT, DT_FLOAT, DT_FLOAT, DT_FLOAT, DT_FLOAT, DT_FLOAT, DT_FLOAT, DT_FLOAT, DT_FLOAT, DT_FLOAT, DT_FLOAT, DT_FLOAT, DT_FLOAT, DT_FLOAT, DT_FLOAT, DT_FLOAT, DT_FLOAT, DT_FLOAT, DT_FLOAT, DT_FLOAT, DT_FLOAT, DT_FLOAT, DT_FLOAT, DT_FLOAT, DT_FLOAT, DT_FLOAT, DT_FLOAT, DT_FLOAT, DT_FLOAT, DT_FLOAT, DT_FLOAT], _device=\"/job:localhost/replica:0/task:0/cpu:0\"](_recv_save/Const_0, save/SaveV2/tensor_names, save/SaveV2/shape_and_slices, Variable/_33, Variable/Adam/_35, Variable/Adam_1/_37, Variable_1/_39, Variable_1/Adam/_41, Variable_1/Adam_1/_43, Variable_10/_45, Variable_11/_47, Variable_12/_49, Variable_13/_51, Variable_14/_53, Variable_15/_55, Variable_2/_57, Variable_2/Adam/_59, Variable_2/Adam_1/_61, Variable_3/_63, Variable_3/Adam/_65, Variable_3/Adam_1/_67, Variable_4/_69, Variable_4/Adam/_71, Variable_4/Adam_1/_73, Variable_5/_75, Variable_5/Adam/_77, Variable_5/Adam_1/_79, Variable_6/_81, Variable_6/Adam/_83, Variable_6/Adam_1/_85, Variable_7/_87, Variable_7/Adam/_89, Variable_7/Adam_1/_91, Variable_8/_93, Variable_9/_95, beta1_power/_97, beta2_power/_99)]]\n",
     "output_type": "error",
     "traceback": [
      "\u001b[0;31m---------------------------------------------------------------------------\u001b[0m",
      "\u001b[0;31mResourceExhaustedError\u001b[0m                    Traceback (most recent call last)",
      "\u001b[0;32m/home/carnd/anaconda3/envs/dl/lib/python3.5/site-packages/tensorflow/python/client/session.py\u001b[0m in \u001b[0;36m_do_call\u001b[0;34m(self, fn, *args)\u001b[0m\n\u001b[1;32m   1021\u001b[0m     \u001b[0;32mtry\u001b[0m\u001b[0;34m:\u001b[0m\u001b[0;34m\u001b[0m\u001b[0m\n\u001b[0;32m-> 1022\u001b[0;31m       \u001b[0;32mreturn\u001b[0m \u001b[0mfn\u001b[0m\u001b[0;34m(\u001b[0m\u001b[0;34m*\u001b[0m\u001b[0margs\u001b[0m\u001b[0;34m)\u001b[0m\u001b[0;34m\u001b[0m\u001b[0m\n\u001b[0m\u001b[1;32m   1023\u001b[0m     \u001b[0;32mexcept\u001b[0m \u001b[0merrors\u001b[0m\u001b[0;34m.\u001b[0m\u001b[0mOpError\u001b[0m \u001b[0;32mas\u001b[0m \u001b[0me\u001b[0m\u001b[0;34m:\u001b[0m\u001b[0;34m\u001b[0m\u001b[0m\n",
      "\u001b[0;32m/home/carnd/anaconda3/envs/dl/lib/python3.5/site-packages/tensorflow/python/client/session.py\u001b[0m in \u001b[0;36m_run_fn\u001b[0;34m(session, feed_dict, fetch_list, target_list, options, run_metadata)\u001b[0m\n\u001b[1;32m   1003\u001b[0m                                  \u001b[0mfeed_dict\u001b[0m\u001b[0;34m,\u001b[0m \u001b[0mfetch_list\u001b[0m\u001b[0;34m,\u001b[0m \u001b[0mtarget_list\u001b[0m\u001b[0;34m,\u001b[0m\u001b[0;34m\u001b[0m\u001b[0m\n\u001b[0;32m-> 1004\u001b[0;31m                                  status, run_metadata)\n\u001b[0m\u001b[1;32m   1005\u001b[0m \u001b[0;34m\u001b[0m\u001b[0m\n",
      "\u001b[0;32m/home/carnd/anaconda3/envs/dl/lib/python3.5/contextlib.py\u001b[0m in \u001b[0;36m__exit__\u001b[0;34m(self, type, value, traceback)\u001b[0m\n\u001b[1;32m     65\u001b[0m             \u001b[0;32mtry\u001b[0m\u001b[0;34m:\u001b[0m\u001b[0;34m\u001b[0m\u001b[0m\n\u001b[0;32m---> 66\u001b[0;31m                 \u001b[0mnext\u001b[0m\u001b[0;34m(\u001b[0m\u001b[0mself\u001b[0m\u001b[0;34m.\u001b[0m\u001b[0mgen\u001b[0m\u001b[0;34m)\u001b[0m\u001b[0;34m\u001b[0m\u001b[0m\n\u001b[0m\u001b[1;32m     67\u001b[0m             \u001b[0;32mexcept\u001b[0m \u001b[0mStopIteration\u001b[0m\u001b[0;34m:\u001b[0m\u001b[0;34m\u001b[0m\u001b[0m\n",
      "\u001b[0;32m/home/carnd/anaconda3/envs/dl/lib/python3.5/site-packages/tensorflow/python/framework/errors_impl.py\u001b[0m in \u001b[0;36mraise_exception_on_not_ok_status\u001b[0;34m()\u001b[0m\n\u001b[1;32m    468\u001b[0m           \u001b[0mcompat\u001b[0m\u001b[0;34m.\u001b[0m\u001b[0mas_text\u001b[0m\u001b[0;34m(\u001b[0m\u001b[0mpywrap_tensorflow\u001b[0m\u001b[0;34m.\u001b[0m\u001b[0mTF_Message\u001b[0m\u001b[0;34m(\u001b[0m\u001b[0mstatus\u001b[0m\u001b[0;34m)\u001b[0m\u001b[0;34m)\u001b[0m\u001b[0;34m,\u001b[0m\u001b[0;34m\u001b[0m\u001b[0m\n\u001b[0;32m--> 469\u001b[0;31m           pywrap_tensorflow.TF_GetCode(status))\n\u001b[0m\u001b[1;32m    470\u001b[0m   \u001b[0;32mfinally\u001b[0m\u001b[0;34m:\u001b[0m\u001b[0;34m\u001b[0m\u001b[0m\n",
      "\u001b[0;31mResourceExhaustedError\u001b[0m: image_classification.data-00000-of-00001.tempstate18160876127966645803\n\t [[Node: save/SaveV2 = SaveV2[dtypes=[DT_FLOAT, DT_FLOAT, DT_FLOAT, DT_FLOAT, DT_FLOAT, DT_FLOAT, DT_FLOAT, DT_FLOAT, DT_FLOAT, DT_FLOAT, DT_FLOAT, DT_FLOAT, DT_FLOAT, DT_FLOAT, DT_FLOAT, DT_FLOAT, DT_FLOAT, DT_FLOAT, DT_FLOAT, DT_FLOAT, DT_FLOAT, DT_FLOAT, DT_FLOAT, DT_FLOAT, DT_FLOAT, DT_FLOAT, DT_FLOAT, DT_FLOAT, DT_FLOAT, DT_FLOAT, DT_FLOAT, DT_FLOAT, DT_FLOAT, DT_FLOAT], _device=\"/job:localhost/replica:0/task:0/cpu:0\"](_recv_save/Const_0, save/SaveV2/tensor_names, save/SaveV2/shape_and_slices, Variable/_33, Variable/Adam/_35, Variable/Adam_1/_37, Variable_1/_39, Variable_1/Adam/_41, Variable_1/Adam_1/_43, Variable_10/_45, Variable_11/_47, Variable_12/_49, Variable_13/_51, Variable_14/_53, Variable_15/_55, Variable_2/_57, Variable_2/Adam/_59, Variable_2/Adam_1/_61, Variable_3/_63, Variable_3/Adam/_65, Variable_3/Adam_1/_67, Variable_4/_69, Variable_4/Adam/_71, Variable_4/Adam_1/_73, Variable_5/_75, Variable_5/Adam/_77, Variable_5/Adam_1/_79, Variable_6/_81, Variable_6/Adam/_83, Variable_6/Adam_1/_85, Variable_7/_87, Variable_7/Adam/_89, Variable_7/Adam_1/_91, Variable_8/_93, Variable_9/_95, beta1_power/_97, beta2_power/_99)]]",
      "\nDuring handling of the above exception, another exception occurred:\n",
      "\u001b[0;31mResourceExhaustedError\u001b[0m                    Traceback (most recent call last)",
      "\u001b[0;32m<ipython-input-12-9df3032ebe9d>\u001b[0m in \u001b[0;36m<module>\u001b[0;34m()\u001b[0m\n\u001b[1;32m     21\u001b[0m     \u001b[0;31m# Save Model\u001b[0m\u001b[0;34m\u001b[0m\u001b[0;34m\u001b[0m\u001b[0m\n\u001b[1;32m     22\u001b[0m     \u001b[0msaver\u001b[0m \u001b[0;34m=\u001b[0m \u001b[0mtf\u001b[0m\u001b[0;34m.\u001b[0m\u001b[0mtrain\u001b[0m\u001b[0;34m.\u001b[0m\u001b[0mSaver\u001b[0m\u001b[0;34m(\u001b[0m\u001b[0;34m)\u001b[0m\u001b[0;34m\u001b[0m\u001b[0m\n\u001b[0;32m---> 23\u001b[0;31m     \u001b[0msave_path\u001b[0m \u001b[0;34m=\u001b[0m \u001b[0msaver\u001b[0m\u001b[0;34m.\u001b[0m\u001b[0msave\u001b[0m\u001b[0;34m(\u001b[0m\u001b[0msess\u001b[0m\u001b[0;34m,\u001b[0m \u001b[0msave_model_path\u001b[0m\u001b[0;34m)\u001b[0m\u001b[0;34m\u001b[0m\u001b[0m\n\u001b[0m",
      "\u001b[0;32m/home/carnd/anaconda3/envs/dl/lib/python3.5/site-packages/tensorflow/python/training/saver.py\u001b[0m in \u001b[0;36msave\u001b[0;34m(self, sess, save_path, global_step, latest_filename, meta_graph_suffix, write_meta_graph, write_state)\u001b[0m\n\u001b[1;32m   1372\u001b[0m       model_checkpoint_path = sess.run(\n\u001b[1;32m   1373\u001b[0m           \u001b[0mself\u001b[0m\u001b[0;34m.\u001b[0m\u001b[0msaver_def\u001b[0m\u001b[0;34m.\u001b[0m\u001b[0msave_tensor_name\u001b[0m\u001b[0;34m,\u001b[0m\u001b[0;34m\u001b[0m\u001b[0m\n\u001b[0;32m-> 1374\u001b[0;31m           {self.saver_def.filename_tensor_name: checkpoint_file})\n\u001b[0m\u001b[1;32m   1375\u001b[0m       \u001b[0mmodel_checkpoint_path\u001b[0m \u001b[0;34m=\u001b[0m \u001b[0mcompat\u001b[0m\u001b[0;34m.\u001b[0m\u001b[0mas_str\u001b[0m\u001b[0;34m(\u001b[0m\u001b[0mmodel_checkpoint_path\u001b[0m\u001b[0;34m)\u001b[0m\u001b[0;34m\u001b[0m\u001b[0m\n\u001b[1;32m   1376\u001b[0m       \u001b[0;32mif\u001b[0m \u001b[0mwrite_state\u001b[0m\u001b[0;34m:\u001b[0m\u001b[0;34m\u001b[0m\u001b[0m\n",
      "\u001b[0;32m/home/carnd/anaconda3/envs/dl/lib/python3.5/site-packages/tensorflow/python/client/session.py\u001b[0m in \u001b[0;36mrun\u001b[0;34m(self, fetches, feed_dict, options, run_metadata)\u001b[0m\n\u001b[1;32m    765\u001b[0m     \u001b[0;32mtry\u001b[0m\u001b[0;34m:\u001b[0m\u001b[0;34m\u001b[0m\u001b[0m\n\u001b[1;32m    766\u001b[0m       result = self._run(None, fetches, feed_dict, options_ptr,\n\u001b[0;32m--> 767\u001b[0;31m                          run_metadata_ptr)\n\u001b[0m\u001b[1;32m    768\u001b[0m       \u001b[0;32mif\u001b[0m \u001b[0mrun_metadata\u001b[0m\u001b[0;34m:\u001b[0m\u001b[0;34m\u001b[0m\u001b[0m\n\u001b[1;32m    769\u001b[0m         \u001b[0mproto_data\u001b[0m \u001b[0;34m=\u001b[0m \u001b[0mtf_session\u001b[0m\u001b[0;34m.\u001b[0m\u001b[0mTF_GetBuffer\u001b[0m\u001b[0;34m(\u001b[0m\u001b[0mrun_metadata_ptr\u001b[0m\u001b[0;34m)\u001b[0m\u001b[0;34m\u001b[0m\u001b[0m\n",
      "\u001b[0;32m/home/carnd/anaconda3/envs/dl/lib/python3.5/site-packages/tensorflow/python/client/session.py\u001b[0m in \u001b[0;36m_run\u001b[0;34m(self, handle, fetches, feed_dict, options, run_metadata)\u001b[0m\n\u001b[1;32m    963\u001b[0m     \u001b[0;32mif\u001b[0m \u001b[0mfinal_fetches\u001b[0m \u001b[0;32mor\u001b[0m \u001b[0mfinal_targets\u001b[0m\u001b[0;34m:\u001b[0m\u001b[0;34m\u001b[0m\u001b[0m\n\u001b[1;32m    964\u001b[0m       results = self._do_run(handle, final_targets, final_fetches,\n\u001b[0;32m--> 965\u001b[0;31m                              feed_dict_string, options, run_metadata)\n\u001b[0m\u001b[1;32m    966\u001b[0m     \u001b[0;32melse\u001b[0m\u001b[0;34m:\u001b[0m\u001b[0;34m\u001b[0m\u001b[0m\n\u001b[1;32m    967\u001b[0m       \u001b[0mresults\u001b[0m \u001b[0;34m=\u001b[0m \u001b[0;34m[\u001b[0m\u001b[0;34m]\u001b[0m\u001b[0;34m\u001b[0m\u001b[0m\n",
      "\u001b[0;32m/home/carnd/anaconda3/envs/dl/lib/python3.5/site-packages/tensorflow/python/client/session.py\u001b[0m in \u001b[0;36m_do_run\u001b[0;34m(self, handle, target_list, fetch_list, feed_dict, options, run_metadata)\u001b[0m\n\u001b[1;32m   1013\u001b[0m     \u001b[0;32mif\u001b[0m \u001b[0mhandle\u001b[0m \u001b[0;32mis\u001b[0m \u001b[0;32mNone\u001b[0m\u001b[0;34m:\u001b[0m\u001b[0;34m\u001b[0m\u001b[0m\n\u001b[1;32m   1014\u001b[0m       return self._do_call(_run_fn, self._session, feed_dict, fetch_list,\n\u001b[0;32m-> 1015\u001b[0;31m                            target_list, options, run_metadata)\n\u001b[0m\u001b[1;32m   1016\u001b[0m     \u001b[0;32melse\u001b[0m\u001b[0;34m:\u001b[0m\u001b[0;34m\u001b[0m\u001b[0m\n\u001b[1;32m   1017\u001b[0m       return self._do_call(_prun_fn, self._session, handle, feed_dict,\n",
      "\u001b[0;32m/home/carnd/anaconda3/envs/dl/lib/python3.5/site-packages/tensorflow/python/client/session.py\u001b[0m in \u001b[0;36m_do_call\u001b[0;34m(self, fn, *args)\u001b[0m\n\u001b[1;32m   1033\u001b[0m         \u001b[0;32mexcept\u001b[0m \u001b[0mKeyError\u001b[0m\u001b[0;34m:\u001b[0m\u001b[0;34m\u001b[0m\u001b[0m\n\u001b[1;32m   1034\u001b[0m           \u001b[0;32mpass\u001b[0m\u001b[0;34m\u001b[0m\u001b[0m\n\u001b[0;32m-> 1035\u001b[0;31m       \u001b[0;32mraise\u001b[0m \u001b[0mtype\u001b[0m\u001b[0;34m(\u001b[0m\u001b[0me\u001b[0m\u001b[0;34m)\u001b[0m\u001b[0;34m(\u001b[0m\u001b[0mnode_def\u001b[0m\u001b[0;34m,\u001b[0m \u001b[0mop\u001b[0m\u001b[0;34m,\u001b[0m \u001b[0mmessage\u001b[0m\u001b[0;34m)\u001b[0m\u001b[0;34m\u001b[0m\u001b[0m\n\u001b[0m\u001b[1;32m   1036\u001b[0m \u001b[0;34m\u001b[0m\u001b[0m\n\u001b[1;32m   1037\u001b[0m   \u001b[0;32mdef\u001b[0m \u001b[0m_extend_graph\u001b[0m\u001b[0;34m(\u001b[0m\u001b[0mself\u001b[0m\u001b[0;34m)\u001b[0m\u001b[0;34m:\u001b[0m\u001b[0;34m\u001b[0m\u001b[0m\n",
      "\u001b[0;31mResourceExhaustedError\u001b[0m: image_classification.data-00000-of-00001.tempstate18160876127966645803\n\t [[Node: save/SaveV2 = SaveV2[dtypes=[DT_FLOAT, DT_FLOAT, DT_FLOAT, DT_FLOAT, DT_FLOAT, DT_FLOAT, DT_FLOAT, DT_FLOAT, DT_FLOAT, DT_FLOAT, DT_FLOAT, DT_FLOAT, DT_FLOAT, DT_FLOAT, DT_FLOAT, DT_FLOAT, DT_FLOAT, DT_FLOAT, DT_FLOAT, DT_FLOAT, DT_FLOAT, DT_FLOAT, DT_FLOAT, DT_FLOAT, DT_FLOAT, DT_FLOAT, DT_FLOAT, DT_FLOAT, DT_FLOAT, DT_FLOAT, DT_FLOAT, DT_FLOAT, DT_FLOAT, DT_FLOAT], _device=\"/job:localhost/replica:0/task:0/cpu:0\"](_recv_save/Const_0, save/SaveV2/tensor_names, save/SaveV2/shape_and_slices, Variable/_33, Variable/Adam/_35, Variable/Adam_1/_37, Variable_1/_39, Variable_1/Adam/_41, Variable_1/Adam_1/_43, Variable_10/_45, Variable_11/_47, Variable_12/_49, Variable_13/_51, Variable_14/_53, Variable_15/_55, Variable_2/_57, Variable_2/Adam/_59, Variable_2/Adam_1/_61, Variable_3/_63, Variable_3/Adam/_65, Variable_3/Adam_1/_67, Variable_4/_69, Variable_4/Adam/_71, Variable_4/Adam_1/_73, Variable_5/_75, Variable_5/Adam/_77, Variable_5/Adam_1/_79, Variable_6/_81, Variable_6/Adam/_83, Variable_6/Adam_1/_85, Variable_7/_87, Variable_7/Adam/_89, Variable_7/Adam_1/_91, Variable_8/_93, Variable_9/_95, beta1_power/_97, beta2_power/_99)]]\n\nCaused by op 'save/SaveV2', defined at:\n  File \"/home/carnd/anaconda3/envs/dl/lib/python3.5/runpy.py\", line 184, in _run_module_as_main\n    \"__main__\", mod_spec)\n  File \"/home/carnd/anaconda3/envs/dl/lib/python3.5/runpy.py\", line 85, in _run_code\n    exec(code, run_globals)\n  File \"/home/carnd/anaconda3/envs/dl/lib/python3.5/site-packages/ipykernel/__main__.py\", line 3, in <module>\n    app.launch_new_instance()\n  File \"/home/carnd/anaconda3/envs/dl/lib/python3.5/site-packages/traitlets/config/application.py\", line 658, in launch_instance\n    app.start()\n  File \"/home/carnd/anaconda3/envs/dl/lib/python3.5/site-packages/ipykernel/kernelapp.py\", line 474, in start\n    ioloop.IOLoop.instance().start()\n  File \"/home/carnd/anaconda3/envs/dl/lib/python3.5/site-packages/zmq/eventloop/ioloop.py\", line 177, in start\n    super(ZMQIOLoop, self).start()\n  File \"/home/carnd/anaconda3/envs/dl/lib/python3.5/site-packages/tornado/ioloop.py\", line 887, in start\n    handler_func(fd_obj, events)\n  File \"/home/carnd/anaconda3/envs/dl/lib/python3.5/site-packages/tornado/stack_context.py\", line 275, in null_wrapper\n    return fn(*args, **kwargs)\n  File \"/home/carnd/anaconda3/envs/dl/lib/python3.5/site-packages/zmq/eventloop/zmqstream.py\", line 440, in _handle_events\n    self._handle_recv()\n  File \"/home/carnd/anaconda3/envs/dl/lib/python3.5/site-packages/zmq/eventloop/zmqstream.py\", line 472, in _handle_recv\n    self._run_callback(callback, msg)\n  File \"/home/carnd/anaconda3/envs/dl/lib/python3.5/site-packages/zmq/eventloop/zmqstream.py\", line 414, in _run_callback\n    callback(*args, **kwargs)\n  File \"/home/carnd/anaconda3/envs/dl/lib/python3.5/site-packages/tornado/stack_context.py\", line 275, in null_wrapper\n    return fn(*args, **kwargs)\n  File \"/home/carnd/anaconda3/envs/dl/lib/python3.5/site-packages/ipykernel/kernelbase.py\", line 276, in dispatcher\n    return self.dispatch_shell(stream, msg)\n  File \"/home/carnd/anaconda3/envs/dl/lib/python3.5/site-packages/ipykernel/kernelbase.py\", line 228, in dispatch_shell\n    handler(stream, idents, msg)\n  File \"/home/carnd/anaconda3/envs/dl/lib/python3.5/site-packages/ipykernel/kernelbase.py\", line 390, in execute_request\n    user_expressions, allow_stdin)\n  File \"/home/carnd/anaconda3/envs/dl/lib/python3.5/site-packages/ipykernel/ipkernel.py\", line 196, in do_execute\n    res = shell.run_cell(code, store_history=store_history, silent=silent)\n  File \"/home/carnd/anaconda3/envs/dl/lib/python3.5/site-packages/ipykernel/zmqshell.py\", line 501, in run_cell\n    return super(ZMQInteractiveShell, self).run_cell(*args, **kwargs)\n  File \"/home/carnd/anaconda3/envs/dl/lib/python3.5/site-packages/IPython/core/interactiveshell.py\", line 2717, in run_cell\n    interactivity=interactivity, compiler=compiler, result=result)\n  File \"/home/carnd/anaconda3/envs/dl/lib/python3.5/site-packages/IPython/core/interactiveshell.py\", line 2821, in run_ast_nodes\n    if self.run_code(code, result):\n  File \"/home/carnd/anaconda3/envs/dl/lib/python3.5/site-packages/IPython/core/interactiveshell.py\", line 2881, in run_code\n    exec(code_obj, self.user_global_ns, self.user_ns)\n  File \"<ipython-input-12-9df3032ebe9d>\", line 22, in <module>\n    saver = tf.train.Saver()\n  File \"/home/carnd/anaconda3/envs/dl/lib/python3.5/site-packages/tensorflow/python/training/saver.py\", line 1051, in __init__\n    self.build()\n  File \"/home/carnd/anaconda3/envs/dl/lib/python3.5/site-packages/tensorflow/python/training/saver.py\", line 1081, in build\n    restore_sequentially=self._restore_sequentially)\n  File \"/home/carnd/anaconda3/envs/dl/lib/python3.5/site-packages/tensorflow/python/training/saver.py\", line 673, in build\n    save_tensor = self._AddSaveOps(filename_tensor, saveables)\n  File \"/home/carnd/anaconda3/envs/dl/lib/python3.5/site-packages/tensorflow/python/training/saver.py\", line 271, in _AddSaveOps\n    save = self.save_op(filename_tensor, saveables)\n  File \"/home/carnd/anaconda3/envs/dl/lib/python3.5/site-packages/tensorflow/python/training/saver.py\", line 214, in save_op\n    tensors)\n  File \"/home/carnd/anaconda3/envs/dl/lib/python3.5/site-packages/tensorflow/python/ops/gen_io_ops.py\", line 779, in save_v2\n    tensors=tensors, name=name)\n  File \"/home/carnd/anaconda3/envs/dl/lib/python3.5/site-packages/tensorflow/python/framework/op_def_library.py\", line 763, in apply_op\n    op_def=op_def)\n  File \"/home/carnd/anaconda3/envs/dl/lib/python3.5/site-packages/tensorflow/python/framework/ops.py\", line 2395, in create_op\n    original_op=self._default_original_op, op_def=op_def)\n  File \"/home/carnd/anaconda3/envs/dl/lib/python3.5/site-packages/tensorflow/python/framework/ops.py\", line 1264, in __init__\n    self._traceback = _extract_stack()\n\nResourceExhaustedError (see above for traceback): image_classification.data-00000-of-00001.tempstate18160876127966645803\n\t [[Node: save/SaveV2 = SaveV2[dtypes=[DT_FLOAT, DT_FLOAT, DT_FLOAT, DT_FLOAT, DT_FLOAT, DT_FLOAT, DT_FLOAT, DT_FLOAT, DT_FLOAT, DT_FLOAT, DT_FLOAT, DT_FLOAT, DT_FLOAT, DT_FLOAT, DT_FLOAT, DT_FLOAT, DT_FLOAT, DT_FLOAT, DT_FLOAT, DT_FLOAT, DT_FLOAT, DT_FLOAT, DT_FLOAT, DT_FLOAT, DT_FLOAT, DT_FLOAT, DT_FLOAT, DT_FLOAT, DT_FLOAT, DT_FLOAT, DT_FLOAT, DT_FLOAT, DT_FLOAT, DT_FLOAT], _device=\"/job:localhost/replica:0/task:0/cpu:0\"](_recv_save/Const_0, save/SaveV2/tensor_names, save/SaveV2/shape_and_slices, Variable/_33, Variable/Adam/_35, Variable/Adam_1/_37, Variable_1/_39, Variable_1/Adam/_41, Variable_1/Adam_1/_43, Variable_10/_45, Variable_11/_47, Variable_12/_49, Variable_13/_51, Variable_14/_53, Variable_15/_55, Variable_2/_57, Variable_2/Adam/_59, Variable_2/Adam_1/_61, Variable_3/_63, Variable_3/Adam/_65, Variable_3/Adam_1/_67, Variable_4/_69, Variable_4/Adam/_71, Variable_4/Adam_1/_73, Variable_5/_75, Variable_5/Adam/_77, Variable_5/Adam_1/_79, Variable_6/_81, Variable_6/Adam/_83, Variable_6/Adam_1/_85, Variable_7/_87, Variable_7/Adam/_89, Variable_7/Adam_1/_91, Variable_8/_93, Variable_9/_95, beta1_power/_97, beta2_power/_99)]]\n"
     ]
    }
   ],
   "source": [
    "\"\"\"\n",
    "DON'T MODIFY ANYTHING IN THIS CELL\n",
    "\"\"\"\n",
    "save_model_path = './image_classification'\n",
    "\n",
    "print('Training...')\n",
    "with tf.Session() as sess:\n",
    "    # Initializing the variables\n",
    "    sess.run(tf.global_variables_initializer())\n",
    "    \n",
    "    # Training cycle\n",
    "    for epoch in range(epochs):\n",
    "        # Loop over all batches\n",
    "        n_batches = 5\n",
    "        for batch_i in range(1, n_batches + 1):\n",
    "            for batch_features, batch_labels in helper.load_preprocess_training_batch(batch_i, batch_size):\n",
    "                train_neural_network(sess, optimizer, keep_probability, batch_features, batch_labels)\n",
    "            print('Epoch {:>2}, CIFAR-10 Batch {}:  '.format(epoch + 1, batch_i), end='')\n",
    "            print_stats(sess, batch_features, batch_labels, cost, accuracy)\n",
    "            \n",
    "    # Save Model\n",
    "    saver = tf.train.Saver()\n",
    "    save_path = saver.save(sess, save_model_path)"
   ]
  },
  {
   "cell_type": "markdown",
   "metadata": {
    "deletable": true,
    "editable": true
   },
   "source": [
    "# Checkpoint\n",
    "The model has been saved to disk.\n",
    "## Test Model\n",
    "Test your model against the test dataset.  This will be your final accuracy. You should have an accuracy greater than 50%. If you don't, keep tweaking the model architecture and parameters."
   ]
  },
  {
   "cell_type": "code",
   "execution_count": null,
   "metadata": {
    "collapsed": false,
    "deletable": true,
    "editable": true
   },
   "outputs": [],
   "source": [
    "\"\"\"\n",
    "DON'T MODIFY ANYTHING IN THIS CELL\n",
    "\"\"\"\n",
    "%matplotlib inline\n",
    "%config InlineBackend.figure_format = 'retina'\n",
    "\n",
    "import tensorflow as tf\n",
    "import pickle\n",
    "import helper\n",
    "import random\n",
    "\n",
    "# Set batch size if not already set\n",
    "try:\n",
    "    if batch_size:\n",
    "        pass\n",
    "except NameError:\n",
    "    batch_size = 64\n",
    "\n",
    "save_model_path = './image_classification'\n",
    "n_samples = 4\n",
    "top_n_predictions = 3\n",
    "\n",
    "def test_model():\n",
    "    \"\"\"\n",
    "    Test the saved model against the test dataset\n",
    "    \"\"\"\n",
    "\n",
    "    test_features, test_labels = pickle.load(open('preprocess_training.p', mode='rb'))\n",
    "    loaded_graph = tf.Graph()\n",
    "\n",
    "    with tf.Session(graph=loaded_graph) as sess:\n",
    "        # Load model\n",
    "        loader = tf.train.import_meta_graph(save_model_path + '.meta')\n",
    "        loader.restore(sess, save_model_path)\n",
    "\n",
    "        # Get Tensors from loaded model\n",
    "        loaded_x = loaded_graph.get_tensor_by_name('x:0')\n",
    "        loaded_y = loaded_graph.get_tensor_by_name('y:0')\n",
    "        loaded_keep_prob = loaded_graph.get_tensor_by_name('keep_prob:0')\n",
    "        loaded_logits = loaded_graph.get_tensor_by_name('logits:0')\n",
    "        loaded_acc = loaded_graph.get_tensor_by_name('accuracy:0')\n",
    "        \n",
    "        # Get accuracy in batches for memory limitations\n",
    "        test_batch_acc_total = 0\n",
    "        test_batch_count = 0\n",
    "        \n",
    "        for train_feature_batch, train_label_batch in helper.batch_features_labels(test_features, test_labels, batch_size):\n",
    "            test_batch_acc_total += sess.run(\n",
    "                loaded_acc,\n",
    "                feed_dict={loaded_x: train_feature_batch, loaded_y: train_label_batch, loaded_keep_prob: 1.0})\n",
    "            test_batch_count += 1\n",
    "\n",
    "        print('Testing Accuracy: {}\\n'.format(test_batch_acc_total/test_batch_count))\n",
    "\n",
    "        # Print Random Samples\n",
    "        random_test_features, random_test_labels = tuple(zip(*random.sample(list(zip(test_features, test_labels)), n_samples)))\n",
    "        random_test_predictions = sess.run(\n",
    "            tf.nn.top_k(tf.nn.softmax(loaded_logits), top_n_predictions),\n",
    "            feed_dict={loaded_x: random_test_features, loaded_y: random_test_labels, loaded_keep_prob: 1.0})\n",
    "        helper.display_image_predictions(random_test_features, random_test_labels, random_test_predictions)\n",
    "\n",
    "\n",
    "test_model()"
   ]
  },
  {
   "cell_type": "markdown",
   "metadata": {
    "deletable": true,
    "editable": true
   },
   "source": [
    "## Why 50-70% Accuracy?\n",
    "You might be wondering why you can't get an accuracy any higher. First things first, 50% isn't bad for a simple CNN.  Pure guessing would get you 10% accuracy. However, you might notice people are getting scores [well above 70%](http://rodrigob.github.io/are_we_there_yet/build/classification_datasets_results.html#43494641522d3130).  That's because we haven't taught you all there is to know about neural networks. We still need to cover a few more techniques.\n",
    "## Submitting This Project\n",
    "When submitting this project, make sure to run all the cells before saving the notebook.  Save the notebook file as \"dlnd_image_classification.ipynb\" and save it as a HTML file under \"File\" -> \"Download as\".  Include the \"helper.py\" and \"problem_unittests.py\" files in your submission."
   ]
  },
  {
   "cell_type": "code",
   "execution_count": null,
   "metadata": {
    "collapsed": true,
    "deletable": true,
    "editable": true
   },
   "outputs": [],
   "source": []
  }
 ],
 "metadata": {
  "kernelspec": {
   "display_name": "Python 3",
   "language": "python",
   "name": "python3"
  },
  "language_info": {
   "codemirror_mode": {
    "name": "ipython",
    "version": 3
   },
   "file_extension": ".py",
   "mimetype": "text/x-python",
   "name": "python",
   "nbconvert_exporter": "python",
   "pygments_lexer": "ipython3",
   "version": "3.5.2"
  },
  "widgets": {
   "state": {},
   "version": "1.1.2"
  }
 },
 "nbformat": 4,
 "nbformat_minor": 0
}
