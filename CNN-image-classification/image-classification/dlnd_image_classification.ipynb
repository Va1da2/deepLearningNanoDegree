{
 "cells": [
  {
   "cell_type": "markdown",
   "metadata": {
    "collapsed": true,
    "deletable": true,
    "editable": true
   },
   "source": [
    "# Image Classification\n",
    "In this project, you'll classify images from the [CIFAR-10 dataset](https://www.cs.toronto.edu/~kriz/cifar.html).  The dataset consists of airplanes, dogs, cats, and other objects. You'll preprocess the images, then train a convolutional neural network on all the samples. The images need to be normalized and the labels need to be one-hot encoded.  You'll get to apply what you learned and build a convolutional, max pooling, dropout, and fully connected layers.  At the end, you'll get to see your neural network's predictions on the sample images.\n",
    "## Get the Data\n",
    "Run the following cell to download the [CIFAR-10 dataset for python](https://www.cs.toronto.edu/~kriz/cifar-10-python.tar.gz)."
   ]
  },
  {
   "cell_type": "code",
   "execution_count": 1,
   "metadata": {
    "collapsed": false,
    "deletable": true,
    "editable": true
   },
   "outputs": [
    {
     "name": "stderr",
     "output_type": "stream",
     "text": [
      "CIFAR-10 Dataset: 171MB [00:25, 6.67MB/s]                              \n"
     ]
    },
    {
     "name": "stdout",
     "output_type": "stream",
     "text": [
      "All files found!\n"
     ]
    }
   ],
   "source": [
    "\"\"\"\n",
    "DON'T MODIFY ANYTHING IN THIS CELL THAT IS BELOW THIS LINE\n",
    "\"\"\"\n",
    "from urllib.request import urlretrieve\n",
    "from os.path import isfile, isdir\n",
    "from tqdm import tqdm\n",
    "import problem_unittests as tests\n",
    "import tarfile\n",
    "\n",
    "cifar10_dataset_folder_path = 'cifar-10-batches-py'\n",
    "\n",
    "class DLProgress(tqdm):\n",
    "    last_block = 0\n",
    "\n",
    "    def hook(self, block_num=1, block_size=1, total_size=None):\n",
    "        self.total = total_size\n",
    "        self.update((block_num - self.last_block) * block_size)\n",
    "        self.last_block = block_num\n",
    "\n",
    "if not isfile('cifar-10-python.tar.gz'):\n",
    "    with DLProgress(unit='B', unit_scale=True, miniters=1, desc='CIFAR-10 Dataset') as pbar:\n",
    "        urlretrieve(\n",
    "            'https://www.cs.toronto.edu/~kriz/cifar-10-python.tar.gz',\n",
    "            'cifar-10-python.tar.gz',\n",
    "            pbar.hook)\n",
    "\n",
    "if not isdir(cifar10_dataset_folder_path):\n",
    "    with tarfile.open('cifar-10-python.tar.gz') as tar:\n",
    "        tar.extractall()\n",
    "        tar.close()\n",
    "\n",
    "\n",
    "tests.test_folder_path(cifar10_dataset_folder_path)"
   ]
  },
  {
   "cell_type": "markdown",
   "metadata": {
    "deletable": true,
    "editable": true
   },
   "source": [
    "## Explore the Data\n",
    "The dataset is broken into batches to prevent your machine from running out of memory.  The CIFAR-10 dataset consists of 5 batches, named `data_batch_1`, `data_batch_2`, etc.. Each batch contains the labels and images that are one of the following:\n",
    "* airplane\n",
    "* automobile\n",
    "* bird\n",
    "* cat\n",
    "* deer\n",
    "* dog\n",
    "* frog\n",
    "* horse\n",
    "* ship\n",
    "* truck\n",
    "\n",
    "Understanding a dataset is part of making predictions on the data.  Play around with the code cell below by changing the `batch_id` and `sample_id`. The `batch_id` is the id for a batch (1-5). The `sample_id` is the id for a image and label pair in the batch.\n",
    "\n",
    "Ask yourself \"What are all possible labels?\", \"What is the range of values for the image data?\", \"Are the labels in order or random?\".  Answers to questions like these will help you preprocess the data and end up with better predictions."
   ]
  },
  {
   "cell_type": "code",
   "execution_count": 2,
   "metadata": {
    "collapsed": false,
    "deletable": true,
    "editable": true
   },
   "outputs": [
    {
     "name": "stdout",
     "output_type": "stream",
     "text": [
      "\n",
      "Stats of batch 1:\n",
      "Samples: 10000\n",
      "Label Counts: {0: 1005, 1: 974, 2: 1032, 3: 1016, 4: 999, 5: 937, 6: 1030, 7: 1001, 8: 1025, 9: 981}\n",
      "First 20 Labels: [6, 9, 9, 4, 1, 1, 2, 7, 8, 3, 4, 7, 7, 2, 9, 9, 9, 3, 2, 6]\n",
      "\n",
      "Example of Image 8:\n",
      "Image - Min Value: 8 Max Value: 252\n",
      "Image - Shape: (32, 32, 3)\n",
      "Label - Label Id: 8 Name: ship\n"
     ]
    },
    {
     "data": {
      "image/png": "[encoded data removed]",
      "text/plain": [
       "<matplotlib.figure.Figure at 0x7f7a6c981a58>"
      ]
     },
     "metadata": {
      "image/png": {
       "height": 250,
       "width": 253
      }
     },
     "output_type": "display_data"
    }
   ],
   "source": [
    "%matplotlib inline\n",
    "%config InlineBackend.figure_format = 'retina'\n",
    "\n",
    "import helper\n",
    "import numpy as np\n",
    "\n",
    "# Explore the dataset\n",
    "batch_id = 1\n",
    "sample_id = 8\n",
    "helper.display_stats(cifar10_dataset_folder_path, batch_id, sample_id)"
   ]
  },
  {
   "cell_type": "markdown",
   "metadata": {
    "deletable": true,
    "editable": true
   },
   "source": [
    "## Implement Preprocess Functions\n",
    "### Normalize\n",
    "In the cell below, implement the `normalize` function to take in image data, `x`, and return it as a normalized Numpy array. The values should be in the range of 0 to 1, inclusive.  The return object should be the same shape as `x`."
   ]
  },
  {
   "cell_type": "code",
   "execution_count": 3,
   "metadata": {
    "collapsed": false,
    "deletable": true,
    "editable": true,
    "scrolled": true
   },
   "outputs": [
    {
     "name": "stdout",
     "output_type": "stream",
     "text": [
      "Tests Passed\n"
     ]
    }
   ],
   "source": [
    "def normalize(x):\n",
    "    \"\"\"\n",
    "    Normalize a list of sample image data in the range of 0 to 1\n",
    "    : x: List of image data.  The image shape is (32, 32, 3)\n",
    "    : return: Numpy array of normalize data\n",
    "    \"\"\"\n",
    "    # TODO: Implement Function\n",
    "    \n",
    "    return x.astype(float) / 255.0\n",
    "\n",
    "\n",
    "\"\"\"\n",
    "DON'T MODIFY ANYTHING IN THIS CELL THAT IS BELOW THIS LINE\n",
    "\"\"\"\n",
    "tests.test_normalize(normalize)"
   ]
  },
  {
   "cell_type": "markdown",
   "metadata": {
    "deletable": true,
    "editable": true
   },
   "source": [
    "### One-hot encode\n",
    "Just like the previous code cell, you'll be implementing a function for preprocessing.  This time, you'll implement the `one_hot_encode` function. The input, `x`, are a list of labels.  Implement the function to return the list of labels as One-Hot encoded Numpy array.  The possible values for labels are 0 to 9. The one-hot encoding function should return the same encoding for each value between each call to `one_hot_encode`.  Make sure to save the map of encodings outside the function.\n",
    "\n",
    "Hint: Don't reinvent the wheel."
   ]
  },
  {
   "cell_type": "code",
   "execution_count": 4,
   "metadata": {
    "collapsed": false,
    "deletable": true,
    "editable": true
   },
   "outputs": [
    {
     "name": "stdout",
     "output_type": "stream",
     "text": [
      "Tests Passed\n"
     ]
    }
   ],
   "source": [
    "def one_hot_encode(x):\n",
    "    \"\"\"\n",
    "    One hot encode a list of sample labels. Return a one-hot encoded vector for each label.\n",
    "    : x: List of sample Labels\n",
    "    : return: Numpy array of one-hot encoded labels\n",
    "    \"\"\"\n",
    "    # TODO: Implement Function\n",
    "    one_hot = np.zeros((len(x), 10))\n",
    "    one_hot[np.arange(len(x)), x] = 1\n",
    "    return one_hot\n",
    "\n",
    "\n",
    "\"\"\"\n",
    "DON'T MODIFY ANYTHING IN THIS CELL THAT IS BELOW THIS LINE\n",
    "\"\"\"\n",
    "tests.test_one_hot_encode(one_hot_encode)"
   ]
  },
  {
   "cell_type": "markdown",
   "metadata": {
    "deletable": true,
    "editable": true
   },
   "source": [
    "### Randomize Data\n",
    "As you saw from exploring the data above, the order of the samples are randomized.  It doesn't hurt to randomize it again, but you don't need to for this dataset."
   ]
  },
  {
   "cell_type": "markdown",
   "metadata": {
    "deletable": true,
    "editable": true
   },
   "source": [
    "## Preprocess all the data and save it\n",
    "Running the code cell below will preprocess all the CIFAR-10 data and save it to file. The code below also uses 10% of the training data for validation."
   ]
  },
  {
   "cell_type": "code",
   "execution_count": 5,
   "metadata": {
    "collapsed": false,
    "deletable": true,
    "editable": true
   },
   "outputs": [],
   "source": [
    "\"\"\"\n",
    "DON'T MODIFY ANYTHING IN THIS CELL\n",
    "\"\"\"\n",
    "# Preprocess Training, Validation, and Testing Data\n",
    "helper.preprocess_and_save_data(cifar10_dataset_folder_path, normalize, one_hot_encode)"
   ]
  },
  {
   "cell_type": "markdown",
   "metadata": {
    "deletable": true,
    "editable": true
   },
   "source": [
    "# Check Point\n",
    "This is your first checkpoint.  If you ever decide to come back to this notebook or have to restart the notebook, you can start from here.  The preprocessed data has been saved to disk."
   ]
  },
  {
   "cell_type": "code",
   "execution_count": 6,
   "metadata": {
    "collapsed": true,
    "deletable": true,
    "editable": true
   },
   "outputs": [],
   "source": [
    "\"\"\"\n",
    "DON'T MODIFY ANYTHING IN THIS CELL\n",
    "\"\"\"\n",
    "import pickle\n",
    "import problem_unittests as tests\n",
    "import helper\n",
    "\n",
    "# Load the Preprocessed Validation data\n",
    "valid_features, valid_labels = pickle.load(open('preprocess_validation.p', mode='rb'))"
   ]
  },
  {
   "cell_type": "markdown",
   "metadata": {
    "deletable": true,
    "editable": true
   },
   "source": [
    "## Build the network\n",
    "For the neural network, you'll build each layer into a function.  Most of the code you've seen has been outside of functions. To test your code more thoroughly, we require that you put each layer in a function.  This allows us to give you better feedback and test for simple mistakes using our unittests before you submit your project.\n",
    "\n",
    ">**Note:** If you're finding it hard to dedicate enough time for this course each week, we've provided a small shortcut to this part of the project. In the next couple of problems, you'll have the option to use classes from the [TensorFlow Layers](https://www.tensorflow.org/api_docs/python/tf/layers) or [TensorFlow Layers (contrib)](https://www.tensorflow.org/api_guides/python/contrib.layers) packages to build each layer, except the layers you build in the \"Convolutional and Max Pooling Layer\" section.  TF Layers is similar to Keras's and TFLearn's abstraction to layers, so it's easy to pickup.\n",
    "\n",
    ">However, if you would like to get the most out of this course, try to solve all the problems _without_ using anything from the TF Layers packages. You **can** still use classes from other packages that happen to have the same name as ones you find in TF Layers! For example, instead of using the TF Layers version of the `conv2d` class, [tf.layers.conv2d](https://www.tensorflow.org/api_docs/python/tf/layers/conv2d), you would want to use the TF Neural Network version of `conv2d`, [tf.nn.conv2d](https://www.tensorflow.org/api_docs/python/tf/nn/conv2d). \n",
    "\n",
    "Let's begin!\n",
    "\n",
    "### Input\n",
    "The neural network needs to read the image data, one-hot encoded labels, and dropout keep probability. Implement the following functions\n",
    "* Implement `neural_net_image_input`\n",
    " * Return a [TF Placeholder](https://www.tensorflow.org/api_docs/python/tf/placeholder)\n",
    " * Set the shape using `image_shape` with batch size set to `None`.\n",
    " * Name the TensorFlow placeholder \"x\" using the TensorFlow `name` parameter in the [TF Placeholder](https://www.tensorflow.org/api_docs/python/tf/placeholder).\n",
    "* Implement `neural_net_label_input`\n",
    " * Return a [TF Placeholder](https://www.tensorflow.org/api_docs/python/tf/placeholder)\n",
    " * Set the shape using `n_classes` with batch size set to `None`.\n",
    " * Name the TensorFlow placeholder \"y\" using the TensorFlow `name` parameter in the [TF Placeholder](https://www.tensorflow.org/api_docs/python/tf/placeholder).\n",
    "* Implement `neural_net_keep_prob_input`\n",
    " * Return a [TF Placeholder](https://www.tensorflow.org/api_docs/python/tf/placeholder) for dropout keep probability.\n",
    " * Name the TensorFlow placeholder \"keep_prob\" using the TensorFlow `name` parameter in the [TF Placeholder](https://www.tensorflow.org/api_docs/python/tf/placeholder).\n",
    "\n",
    "These names will be used at the end of the project to load your saved model.\n",
    "\n",
    "Note: `None` for shapes in TensorFlow allow for a dynamic size."
   ]
  },
  {
   "cell_type": "code",
   "execution_count": 7,
   "metadata": {
    "collapsed": false,
    "deletable": true,
    "editable": true
   },
   "outputs": [
    {
     "name": "stdout",
     "output_type": "stream",
     "text": [
      "Image Input Tests Passed.\n",
      "Label Input Tests Passed.\n",
      "Keep Prob Tests Passed.\n"
     ]
    }
   ],
   "source": [
    "import tensorflow as tf\n",
    "\n",
    "def neural_net_image_input(image_shape):\n",
    "    \"\"\"\n",
    "    Return a Tensor for a bach of image input\n",
    "    : image_shape: Shape of the images\n",
    "    : return: Tensor for image input.\n",
    "    \"\"\"\n",
    "    # TODO: Implement Function\n",
    "    x, y, z = image_shape\n",
    "    \n",
    "    return tf.placeholder(tf.float32, shape=(None, x, y, z), name='x')\n",
    "\n",
    "\n",
    "def neural_net_label_input(n_classes):\n",
    "    \"\"\"\n",
    "    Return a Tensor for a batch of label input\n",
    "    : n_classes: Number of classes\n",
    "    : return: Tensor for label input.\n",
    "    \"\"\"\n",
    "    # TODO: Implement Function\n",
    "    return tf.placeholder(tf.float32, shape=(None, n_classes), name='y')\n",
    "\n",
    "\n",
    "def neural_net_keep_prob_input():\n",
    "    \"\"\"\n",
    "    Return a Tensor for keep probability\n",
    "    : return: Tensor for keep probability.\n",
    "    \"\"\"\n",
    "    # TODO: Implement Function \n",
    "    return tf.placeholder(tf.float32, shape=(None), name='keep_prob')\n",
    "\n",
    "\n",
    "\"\"\"\n",
    "DON'T MODIFY ANYTHING IN THIS CELL THAT IS BELOW THIS LINE\n",
    "\"\"\"\n",
    "tf.reset_default_graph()\n",
    "tests.test_nn_image_inputs(neural_net_image_input)\n",
    "tests.test_nn_label_inputs(neural_net_label_input)\n",
    "tests.test_nn_keep_prob_inputs(neural_net_keep_prob_input)"
   ]
  },
  {
   "cell_type": "markdown",
   "metadata": {
    "deletable": true,
    "editable": true
   },
   "source": [
    "### Convolution and Max Pooling Layer\n",
    "Convolution layers have a lot of success with images. For this code cell, you should implement the function `conv2d_maxpool` to apply convolution then max pooling:\n",
    "* Create the weight and bias using `conv_ksize`, `conv_num_outputs` and the shape of `x_tensor`.\n",
    "* Apply a convolution to `x_tensor` using weight and `conv_strides`.\n",
    " * We recommend you use same padding, but you're welcome to use any padding.\n",
    "* Add bias\n",
    "* Add a nonlinear activation to the convolution.\n",
    "* Apply Max Pooling using `pool_ksize` and `pool_strides`.\n",
    " * We recommend you use same padding, but you're welcome to use any padding.\n",
    "\n",
    "**Note:** You **can't** use [TensorFlow Layers](https://www.tensorflow.org/api_docs/python/tf/layers) or [TensorFlow Layers (contrib)](https://www.tensorflow.org/api_guides/python/contrib.layers) for **this** layer, but you can still use TensorFlow's [Neural Network](https://www.tensorflow.org/api_docs/python/tf/nn) package. You may still use the shortcut option for all the **other** layers."
   ]
  },
  {
   "cell_type": "code",
   "execution_count": 8,
   "metadata": {
    "collapsed": false,
    "deletable": true,
    "editable": true
   },
   "outputs": [
    {
     "name": "stdout",
     "output_type": "stream",
     "text": [
      "Tests Passed\n"
     ]
    }
   ],
   "source": [
    "def conv2d_maxpool(x_tensor, conv_num_outputs, conv_ksize, conv_strides, pool_ksize, pool_strides):\n",
    "    \"\"\"\n",
    "    Apply convolution then max pooling to x_tensor\n",
    "    :param x_tensor: TensorFlow Tensor\n",
    "    :param conv_num_outputs: Number of outputs for the convolutional layer\n",
    "    :param conv_ksize: kernal size 2-D Tuple for the convolutional layer\n",
    "    :param conv_strides: Stride 2-D Tuple for convolution\n",
    "    :param pool_ksize: kernal size 2-D Tuple for pool\n",
    "    :param pool_strides: Stride 2-D Tuple for pool\n",
    "    : return: A tensor that represents convolution and max pooling of x_tensor\n",
    "    \"\"\"\n",
    "    # TODO: Implement Function\n",
    "    x, y = conv_ksize\n",
    "    z = x_tensor.get_shape().as_list()[3]\n",
    "    W = tf.Variable(tf.truncated_normal([x, y, z, conv_num_outputs], stddev=0.001))\n",
    "    b = tf.Variable(tf.zeros([conv_num_outputs]))\n",
    "    \n",
    "    str1, str2 = conv_strides\n",
    "    layer = tf.nn.conv2d(x_tensor, W, strides=[1, str1, str2, 1], padding='SAME')\n",
    "    layer = tf.nn.bias_add(layer, b)\n",
    "    layer = tf.nn.relu(layer)\n",
    "    \n",
    "    psize1, psize2 = pool_ksize\n",
    "    pstr1, pstr2 = pool_strides\n",
    "    layer = tf.nn.max_pool(layer, ksize=[1, psize1, psize2, 1], strides=[1, pstr1, pstr2, 1], padding='SAME')\n",
    "    \n",
    "    return layer\n",
    "\n",
    "\n",
    "\"\"\"\n",
    "DON'T MODIFY ANYTHING IN THIS CELL THAT IS BELOW THIS LINE\n",
    "\"\"\"\n",
    "tests.test_con_pool(conv2d_maxpool)"
   ]
  },
  {
   "cell_type": "markdown",
   "metadata": {
    "deletable": true,
    "editable": true
   },
   "source": [
    "### Flatten Layer\n",
    "Implement the `flatten` function to change the dimension of `x_tensor` from a 4-D tensor to a 2-D tensor.  The output should be the shape (*Batch Size*, *Flattened Image Size*). Shortcut option: you can use classes from the [TensorFlow Layers](https://www.tensorflow.org/api_docs/python/tf/layers) or [TensorFlow Layers (contrib)](https://www.tensorflow.org/api_guides/python/contrib.layers) packages for this layer. For more of a challenge, only use other TensorFlow packages."
   ]
  },
  {
   "cell_type": "code",
   "execution_count": 9,
   "metadata": {
    "collapsed": false,
    "deletable": true,
    "editable": true
   },
   "outputs": [
    {
     "name": "stdout",
     "output_type": "stream",
     "text": [
      "Tests Passed\n"
     ]
    }
   ],
   "source": [
    "def flatten(x_tensor):\n",
    "    \"\"\"\n",
    "    Flatten x_tensor to (Batch Size, Flattened Image Size)\n",
    "    : x_tensor: A tensor of size (Batch Size, ...), where ... are the image dimensions.\n",
    "    : return: A tensor of size (Batch Size, Flattened Image Size).\n",
    "    \"\"\"\n",
    "    # TODO: Implement Function\n",
    "    dim1 = x_tensor.get_shape().as_list()[1]\n",
    "    dim2 = x_tensor.get_shape().as_list()[2]\n",
    "    dim3 = x_tensor.get_shape().as_list()[3]\n",
    "    return tf.reshape(x_tensor, [-1, dim1 * dim2 * dim3])\n",
    "\n",
    "\n",
    "\"\"\"\n",
    "DON'T MODIFY ANYTHING IN THIS CELL THAT IS BELOW THIS LINE\n",
    "\"\"\"\n",
    "tests.test_flatten(flatten)"
   ]
  },
  {
   "cell_type": "markdown",
   "metadata": {
    "deletable": true,
    "editable": true
   },
   "source": [
    "### Fully-Connected Layer\n",
    "Implement the `fully_conn` function to apply a fully connected layer to `x_tensor` with the shape (*Batch Size*, *num_outputs*). Shortcut option: you can use classes from the [TensorFlow Layers](https://www.tensorflow.org/api_docs/python/tf/layers) or [TensorFlow Layers (contrib)](https://www.tensorflow.org/api_guides/python/contrib.layers) packages for this layer. For more of a challenge, only use other TensorFlow packages."
   ]
  },
  {
   "cell_type": "code",
   "execution_count": 10,
   "metadata": {
    "collapsed": false,
    "deletable": true,
    "editable": true
   },
   "outputs": [
    {
     "name": "stdout",
     "output_type": "stream",
     "text": [
      "Tests Passed\n"
     ]
    }
   ],
   "source": [
    "def fully_conn(x_tensor, num_outputs):\n",
    "    \"\"\"\n",
    "    Apply a fully connected layer to x_tensor using weight and bias\n",
    "    : x_tensor: A 2-D tensor where the first dimension is batch size.\n",
    "    : num_outputs: The number of output that the new tensor should be.\n",
    "    : return: A 2-D tensor where the second dimension is num_outputs.\n",
    "    \"\"\"\n",
    "    # TODO: Implement Function\n",
    "    dim_input = x_tensor.get_shape().as_list()[1]\n",
    "    W = tf.Variable(tf.truncated_normal([dim_input, num_outputs], stddev=0.01))\n",
    "    b = tf.Variable(tf.zeros([num_outputs]))\n",
    "    return tf.nn.relu(tf.add(tf.matmul(x_tensor, W), b))\n",
    "\n",
    "\n",
    "\"\"\"\n",
    "DON'T MODIFY ANYTHING IN THIS CELL THAT IS BELOW THIS LINE\n",
    "\"\"\"\n",
    "tests.test_fully_conn(fully_conn)"
   ]
  },
  {
   "cell_type": "markdown",
   "metadata": {
    "deletable": true,
    "editable": true
   },
   "source": [
    "### Output Layer\n",
    "Implement the `output` function to apply a fully connected layer to `x_tensor` with the shape (*Batch Size*, *num_outputs*). Shortcut option: you can use classes from the [TensorFlow Layers](https://www.tensorflow.org/api_docs/python/tf/layers) or [TensorFlow Layers (contrib)](https://www.tensorflow.org/api_guides/python/contrib.layers) packages for this layer. For more of a challenge, only use other TensorFlow packages.\n",
    "\n",
    "**Note:** Activation, softmax, or cross entropy should **not** be applied to this."
   ]
  },
  {
   "cell_type": "code",
   "execution_count": 11,
   "metadata": {
    "collapsed": false,
    "deletable": true,
    "editable": true
   },
   "outputs": [
    {
     "name": "stdout",
     "output_type": "stream",
     "text": [
      "Tests Passed\n"
     ]
    }
   ],
   "source": [
    "def output(x_tensor, num_outputs):\n",
    "    \"\"\"\n",
    "    Apply a output layer to x_tensor using weight and bias\n",
    "    : x_tensor: A 2-D tensor where the first dimension is batch size.\n",
    "    : num_outputs: The number of output that the new tensor should be.\n",
    "    : return: A 2-D tensor where the second dimension is num_outputs.\n",
    "    \"\"\"\n",
    "    # TODO: Implement Function\n",
    "    dim_input = x_tensor.get_shape().as_list()[1]\n",
    "    W = tf.Variable(tf.truncated_normal([dim_input, num_outputs], stddev=0.01))\n",
    "    b = tf.Variable(tf.zeros([num_outputs]))\n",
    "    return tf.add(tf.matmul(x_tensor, W), b)\n",
    "\n",
    "\n",
    "\"\"\"\n",
    "DON'T MODIFY ANYTHING IN THIS CELL THAT IS BELOW THIS LINE\n",
    "\"\"\"\n",
    "tests.test_output(output)"
   ]
  },
  {
   "cell_type": "markdown",
   "metadata": {
    "deletable": true,
    "editable": true
   },
   "source": [
    "### Create Convolutional Model\n",
    "Implement the function `conv_net` to create a convolutional neural network model. The function takes in a batch of images, `x`, and outputs logits.  Use the layers you created above to create this model:\n",
    "\n",
    "* Apply 1, 2, or 3 Convolution and Max Pool layers\n",
    "* Apply a Flatten Layer\n",
    "* Apply 1, 2, or 3 Fully Connected Layers\n",
    "* Apply an Output Layer\n",
    "* Return the output\n",
    "* Apply [TensorFlow's Dropout](https://www.tensorflow.org/api_docs/python/tf/nn/dropout) to one or more layers in the model using `keep_prob`. "
   ]
  },
  {
   "cell_type": "code",
   "execution_count": 12,
   "metadata": {
    "collapsed": false,
    "deletable": true,
    "editable": true
   },
   "outputs": [
    {
     "name": "stdout",
     "output_type": "stream",
     "text": [
      "Neural Network Built!\n"
     ]
    }
   ],
   "source": [
    "def conv_net(x, keep_prob):\n",
    "    \"\"\"\n",
    "    Create a convolutional neural network model\n",
    "    : x: Placeholder tensor that holds image data.\n",
    "    : keep_prob: Placeholder tensor that hold dropout keep probability.\n",
    "    : return: Tensor that represents logits\n",
    "    \"\"\"\n",
    "    # TODO: Apply 1, 2, or 3 Convolution and Max Pool layers\n",
    "    #    Play around with different number of outputs, kernel size and stride\n",
    "    # Function Definition from Above:\n",
    "    #    conv2d_maxpool(x_tensor, conv_num_outputs, conv_ksize, conv_strides, pool_ksize, pool_strides)\n",
    "    conv1 = conv2d_maxpool(x, 32, (3, 3), (1, 1), (2, 2), (1, 1))\n",
    "    conv1 = tf.nn.dropout(conv1, keep_prob)\n",
    "    conv2 = conv2d_maxpool(conv1, 64, (5, 5), (1, 1), (3, 3), (2, 2))\n",
    "    conv2 = tf.nn.dropout(conv2, keep_prob)\n",
    "    #conv3 = conv2d_maxpool(conv2, 128, (3, 3), (1, 1), (2, 2), (1, 1))\n",
    "\n",
    "    # TODO: Apply a Flatten Layer\n",
    "    # Function Definition from Above:\n",
    "    #   flatten(x_tensor)\n",
    "    flat = flatten(conv2)\n",
    "\n",
    "    # TODO: Apply 1, 2, or 3 Fully Connected Layers\n",
    "    #    Play around with different number of outputs\n",
    "    # Function Definition from Above:\n",
    "    #   fully_conn(x_tensor, num_outputs)\n",
    "    fl1 = fully_conn(flat, 512)\n",
    "    fl1 =  tf.nn.dropout(fl1, keep_prob)\n",
    "    #fl2 = fully_conn(fl1, 512)\n",
    "    #fl2 =  tf.nn.dropout(fl2, keep_prob)\n",
    "    \n",
    "    # TODO: Apply an Output Layer\n",
    "    #    Set this to the number of classes\n",
    "    # Function Definition from Above:\n",
    "    #   output(x_tensor, num_outputs)\n",
    "    out = output(fl1, 10)\n",
    "    \n",
    "    # TODO: return output\n",
    "    return out\n",
    "\n",
    "\n",
    "\"\"\"\n",
    "DON'T MODIFY ANYTHING IN THIS CELL THAT IS BELOW THIS LINE\n",
    "\"\"\"\n",
    "\n",
    "##############################\n",
    "## Build the Neural Network ##\n",
    "##############################\n",
    "\n",
    "# Remove previous weights, bias, inputs, etc..\n",
    "tf.reset_default_graph()\n",
    "\n",
    "# Inputs\n",
    "x = neural_net_image_input((32, 32, 3))\n",
    "y = neural_net_label_input(10)\n",
    "keep_prob = neural_net_keep_prob_input()\n",
    "\n",
    "# Model\n",
    "logits = conv_net(x, keep_prob)\n",
    "\n",
    "# Name logits Tensor, so that is can be loaded from disk after training\n",
    "logits = tf.identity(logits, name='logits')\n",
    "\n",
    "# Loss and Optimizer\n",
    "cost = tf.reduce_mean(tf.nn.softmax_cross_entropy_with_logits(logits=logits, labels=y))\n",
    "optimizer = tf.train.AdamOptimizer().minimize(cost)\n",
    "\n",
    "# Accuracy\n",
    "correct_pred = tf.equal(tf.argmax(logits, 1), tf.argmax(y, 1))\n",
    "accuracy = tf.reduce_mean(tf.cast(correct_pred, tf.float32), name='accuracy')\n",
    "\n",
    "tests.test_conv_net(conv_net)"
   ]
  },
  {
   "cell_type": "markdown",
   "metadata": {
    "deletable": true,
    "editable": true
   },
   "source": [
    "## Train the Neural Network\n",
    "### Single Optimization\n",
    "Implement the function `train_neural_network` to do a single optimization.  The optimization should use `optimizer` to optimize in `session` with a `feed_dict` of the following:\n",
    "* `x` for image input\n",
    "* `y` for labels\n",
    "* `keep_prob` for keep probability for dropout\n",
    "\n",
    "This function will be called for each batch, so `tf.global_variables_initializer()` has already been called.\n",
    "\n",
    "Note: Nothing needs to be returned. This function is only optimizing the neural network."
   ]
  },
  {
   "cell_type": "code",
   "execution_count": 13,
   "metadata": {
    "collapsed": false,
    "deletable": true,
    "editable": true
   },
   "outputs": [
    {
     "name": "stdout",
     "output_type": "stream",
     "text": [
      "Tests Passed\n"
     ]
    }
   ],
   "source": [
    "def train_neural_network(session, optimizer, keep_probability, feature_batch, label_batch):\n",
    "    \"\"\"\n",
    "    Optimize the session on a batch of images and labels\n",
    "    : session: Current TensorFlow session\n",
    "    : optimizer: TensorFlow optimizer function\n",
    "    : keep_probability: keep probability\n",
    "    : feature_batch: Batch of Numpy image data\n",
    "    : label_batch: Batch of Numpy label data\n",
    "    \"\"\"\n",
    "    # TODO: Implement Function\n",
    "    session.run(optimizer, feed_dict={x: feature_batch, y: label_batch, keep_prob: keep_probability})\n",
    "\n",
    "\n",
    "\"\"\"\n",
    "DON'T MODIFY ANYTHING IN THIS CELL THAT IS BELOW THIS LINE\n",
    "\"\"\"\n",
    "tests.test_train_nn(train_neural_network)"
   ]
  },
  {
   "cell_type": "markdown",
   "metadata": {
    "deletable": true,
    "editable": true
   },
   "source": [
    "### Show Stats\n",
    "Implement the function `print_stats` to print loss and validation accuracy.  Use the global variables `valid_features` and `valid_labels` to calculate validation accuracy.  Use a keep probability of `1.0` to calculate the loss and validation accuracy."
   ]
  },
  {
   "cell_type": "code",
   "execution_count": 14,
   "metadata": {
    "collapsed": false,
    "deletable": true,
    "editable": true
   },
   "outputs": [],
   "source": [
    "def print_stats(session, feature_batch, label_batch, cost, accuracy):\n",
    "    \"\"\"\n",
    "    Print information about loss and validation accuracy\n",
    "    : session: Current TensorFlow session\n",
    "    : feature_batch: Batch of Numpy image data\n",
    "    : label_batch: Batch of Numpy label data\n",
    "    : cost: TensorFlow cost function\n",
    "    : accuracy: TensorFlow accuracy function\n",
    "    \"\"\"\n",
    "    cost_value = sess.run(cost, feed_dict={x: feature_batch, y: label_batch, keep_prob: 1.0})\n",
    "    accuracy_value = sess.run(accuracy, feed_dict={x: feature_batch, y: label_batch, keep_prob: 1.0})\n",
    "    valid_acc_cum = 0\n",
    "    valid_batch_cnt = 0\n",
    "    for validation_feature, validation_label in helper.batch_features_labels(valid_features, valid_labels, batch_size):\n",
    "        valid_acc_cum += sess.run(accuracy, feed_dict={x: validation_feature, y: validation_label, keep_prob: 1.0})\n",
    "        valid_batch_cnt += 1\n",
    "    valid_acc = valid_acc_cum / valid_batch_cnt\n",
    "    print('cost_value is {0}, while accuracy: {1}. Valid accuracy: {2}'.format(cost_value, accuracy_value, valid_acc))"
   ]
  },
  {
   "cell_type": "markdown",
   "metadata": {
    "deletable": true,
    "editable": true
   },
   "source": [
    "### Hyperparameters\n",
    "Tune the following parameters:\n",
    "* Set `epochs` to the number of iterations until the network stops learning or start overfitting\n",
    "* Set `batch_size` to the highest number that your machine has memory for.  Most people set them to common sizes of memory:\n",
    " * 64\n",
    " * 128\n",
    " * 256\n",
    " * ...\n",
    "* Set `keep_probability` to the probability of keeping a node using dropout"
   ]
  },
  {
   "cell_type": "code",
   "execution_count": 15,
   "metadata": {
    "collapsed": true,
    "deletable": true,
    "editable": true
   },
   "outputs": [],
   "source": [
    "# TODO: Tune Parameters\n",
    "epochs = 30\n",
    "batch_size = 64\n",
    "keep_probability = 0.65"
   ]
  },
  {
   "cell_type": "markdown",
   "metadata": {
    "deletable": true,
    "editable": true
   },
   "source": [
    "### Train on a Single CIFAR-10 Batch\n",
    "Instead of training the neural network on all the CIFAR-10 batches of data, let's use a single batch. This should save time while you iterate on the model to get a better accuracy.  Once the final validation accuracy is 50% or greater, run the model on all the data in the next section."
   ]
  },
  {
   "cell_type": "code",
   "execution_count": 16,
   "metadata": {
    "collapsed": false,
    "deletable": true,
    "editable": true,
    "scrolled": true
   },
   "outputs": [
    {
     "name": "stdout",
     "output_type": "stream",
     "text": [
      "Checking the Training on a Single Batch...\n",
      "Epoch  1, CIFAR-10 Batch 1:  cost_value is 2.1643762588500977, while accuracy: 0.25. Valid accuracy: 0.28718354430379744\n",
      "Epoch  2, CIFAR-10 Batch 1:  cost_value is 2.0467209815979004, while accuracy: 0.30000001192092896. Valid accuracy: 0.359375\n",
      "Epoch  3, CIFAR-10 Batch 1:  cost_value is 1.9090932607650757, while accuracy: 0.4000000059604645. Valid accuracy: 0.38548259493670883\n",
      "Epoch  4, CIFAR-10 Batch 1:  cost_value is 1.7891148328781128, while accuracy: 0.40000003576278687. Valid accuracy: 0.4074367088607595\n",
      "Epoch  5, CIFAR-10 Batch 1:  cost_value is 1.7325553894042969, while accuracy: 0.42499998211860657. Valid accuracy: 0.4149525316455696\n",
      "Epoch  6, CIFAR-10 Batch 1:  cost_value is 1.641873836517334, while accuracy: 0.5249999761581421. Valid accuracy: 0.4386867088607595\n",
      "Epoch  7, CIFAR-10 Batch 1:  cost_value is 1.5964319705963135, while accuracy: 0.45000001788139343. Valid accuracy: 0.4285996835443038\n",
      "Epoch  8, CIFAR-10 Batch 1:  cost_value is 1.5072169303894043, while accuracy: 0.4749999940395355. Valid accuracy: 0.44798259493670883\n",
      "Epoch  9, CIFAR-10 Batch 1:  cost_value is 1.4630582332611084, while accuracy: 0.6000000238418579. Valid accuracy: 0.4622231012658228\n",
      "Epoch 10, CIFAR-10 Batch 1:  cost_value is 1.378121256828308, while accuracy: 0.550000011920929. Valid accuracy: 0.4677610759493671\n",
      "Epoch 11, CIFAR-10 Batch 1:  cost_value is 1.3252906799316406, while accuracy: 0.6000000238418579. Valid accuracy: 0.489121835443038\n",
      "Epoch 12, CIFAR-10 Batch 1:  cost_value is 1.3250129222869873, while accuracy: 0.6000000238418579. Valid accuracy: 0.489121835443038\n",
      "Epoch 13, CIFAR-10 Batch 1:  cost_value is 1.2410507202148438, while accuracy: 0.6749999523162842. Valid accuracy: 0.49624208860759494\n",
      "Epoch 14, CIFAR-10 Batch 1:  cost_value is 1.1480743885040283, while accuracy: 0.6499999761581421. Valid accuracy: 0.5089003164556962\n",
      "Epoch 15, CIFAR-10 Batch 1:  cost_value is 1.1439828872680664, while accuracy: 0.75. Valid accuracy: 0.5065268987341772\n",
      "Epoch 16, CIFAR-10 Batch 1:  cost_value is 1.033748984336853, while accuracy: 0.75. Valid accuracy: 0.5126582278481012\n",
      "Epoch 17, CIFAR-10 Batch 1:  cost_value is 0.9737849235534668, while accuracy: 0.75. Valid accuracy: 0.5174050632911392\n",
      "Epoch 18, CIFAR-10 Batch 1:  cost_value is 0.8652091026306152, while accuracy: 0.8000000715255737. Valid accuracy: 0.5176028481012658\n",
      "Epoch 19, CIFAR-10 Batch 1:  cost_value is 0.8711140155792236, while accuracy: 0.75. Valid accuracy: 0.5098892405063291\n",
      "Epoch 20, CIFAR-10 Batch 1:  cost_value is 0.7999179363250732, while accuracy: 0.75. Valid accuracy: 0.5144382911392406\n",
      "Epoch 21, CIFAR-10 Batch 1:  cost_value is 0.7854748368263245, while accuracy: 0.8000000715255737. Valid accuracy: 0.5229430379746836\n",
      "Epoch 22, CIFAR-10 Batch 1:  cost_value is 0.736384391784668, while accuracy: 0.800000011920929. Valid accuracy: 0.5172072784810127\n",
      "Epoch 23, CIFAR-10 Batch 1:  cost_value is 0.6967828273773193, while accuracy: 0.8500000238418579. Valid accuracy: 0.5193829113924051\n",
      "Epoch 24, CIFAR-10 Batch 1:  cost_value is 0.6545829176902771, while accuracy: 0.824999988079071. Valid accuracy: 0.5278876582278481\n",
      "Epoch 25, CIFAR-10 Batch 1:  cost_value is 0.6472712755203247, while accuracy: 0.8500000834465027. Valid accuracy: 0.5225474683544303\n",
      "Epoch 26, CIFAR-10 Batch 1:  cost_value is 0.5978708267211914, while accuracy: 0.8500000834465027. Valid accuracy: 0.5168117088607594\n",
      "Epoch 27, CIFAR-10 Batch 1:  cost_value is 0.5600037574768066, while accuracy: 0.8500000834465027. Valid accuracy: 0.5069224683544303\n",
      "Epoch 28, CIFAR-10 Batch 1:  cost_value is 0.5283038020133972, while accuracy: 0.875. Valid accuracy: 0.5126582278481012\n",
      "Epoch 29, CIFAR-10 Batch 1:  cost_value is 0.4820752739906311, while accuracy: 0.925000011920929. Valid accuracy: 0.5278876582278481\n",
      "Epoch 30, CIFAR-10 Batch 1:  cost_value is 0.49743857979774475, while accuracy: 0.925000011920929. Valid accuracy: 0.5116693037974683\n"
     ]
    }
   ],
   "source": [
    "\"\"\"\n",
    "DON'T MODIFY ANYTHING IN THIS CELL\n",
    "\"\"\"\n",
    "print('Checking the Training on a Single Batch...')\n",
    "with tf.Session() as sess:\n",
    "    # Initializing the variables\n",
    "    sess.run(tf.global_variables_initializer())\n",
    "    \n",
    "    # Training cycle\n",
    "    for epoch in range(epochs):\n",
    "        batch_i = 1\n",
    "        for batch_features, batch_labels in helper.load_preprocess_training_batch(batch_i, batch_size):\n",
    "            train_neural_network(sess, optimizer, keep_probability, batch_features, batch_labels)\n",
    "        print('Epoch {:>2}, CIFAR-10 Batch {}:  '.format(epoch + 1, batch_i), end='')\n",
    "        print_stats(sess, batch_features, batch_labels, cost, accuracy)"
   ]
  },
  {
   "cell_type": "code",
   "execution_count": null,
   "metadata": {
    "collapsed": false,
    "deletable": true,
    "editable": true
   },
   "outputs": [],
   "source": []
  },
  {
   "cell_type": "markdown",
   "metadata": {
    "deletable": true,
    "editable": true
   },
   "source": [
    "### Fully Train the Model\n",
    "Now that you got a good accuracy with a single CIFAR-10 batch, try it with all five batches."
   ]
  },
  {
   "cell_type": "code",
   "execution_count": 17,
   "metadata": {
    "collapsed": false,
    "deletable": true,
    "editable": true,
    "scrolled": true
   },
   "outputs": [
    {
     "name": "stdout",
     "output_type": "stream",
     "text": [
      "Training...\n",
      "Epoch  1, CIFAR-10 Batch 1:  cost_value is 2.167034864425659, while accuracy: 0.25. Valid accuracy: 0.26641613924050633\n",
      "Epoch  1, CIFAR-10 Batch 2:  cost_value is 1.9921871423721313, while accuracy: 0.3750000298023224. Valid accuracy: 0.31962025316455694\n",
      "Epoch  1, CIFAR-10 Batch 3:  cost_value is 1.5674107074737549, while accuracy: 0.45000001788139343. Valid accuracy: 0.3336629746835443\n",
      "Epoch  1, CIFAR-10 Batch 4:  cost_value is 1.692124366760254, while accuracy: 0.40000003576278687. Valid accuracy: 0.3518591772151899\n",
      "Epoch  1, CIFAR-10 Batch 5:  cost_value is 1.988503098487854, while accuracy: 0.25. Valid accuracy: 0.38686708860759494\n",
      "Epoch  2, CIFAR-10 Batch 1:  cost_value is 1.8393454551696777, while accuracy: 0.3999999761581421. Valid accuracy: 0.4127768987341772\n",
      "Epoch  2, CIFAR-10 Batch 2:  cost_value is 1.6183769702911377, while accuracy: 0.4000000059604645. Valid accuracy: 0.4341376582278481\n",
      "Epoch  2, CIFAR-10 Batch 3:  cost_value is 1.2963958978652954, while accuracy: 0.550000011920929. Valid accuracy: 0.4513449367088608\n",
      "Epoch  2, CIFAR-10 Batch 4:  cost_value is 1.44368314743042, while accuracy: 0.4000000059604645. Valid accuracy: 0.4606408227848101\n",
      "Epoch  2, CIFAR-10 Batch 5:  cost_value is 1.6252447366714478, while accuracy: 0.42500001192092896. Valid accuracy: 0.4612341772151899\n",
      "Epoch  3, CIFAR-10 Batch 1:  cost_value is 1.6644028425216675, while accuracy: 0.42500001192092896. Valid accuracy: 0.4766613924050633\n",
      "Epoch  3, CIFAR-10 Batch 2:  cost_value is 1.4491058588027954, while accuracy: 0.45000001788139343. Valid accuracy: 0.49287974683544306\n",
      "Epoch  3, CIFAR-10 Batch 3:  cost_value is 1.2869822978973389, while accuracy: 0.5249999761581421. Valid accuracy: 0.489121835443038\n",
      "Epoch  3, CIFAR-10 Batch 4:  cost_value is 1.3299612998962402, while accuracy: 0.5250000357627869. Valid accuracy: 0.5011867088607594\n",
      "Epoch  3, CIFAR-10 Batch 5:  cost_value is 1.474889874458313, while accuracy: 0.4750000238418579. Valid accuracy: 0.5106803797468354\n",
      "Epoch  4, CIFAR-10 Batch 1:  cost_value is 1.5478938817977905, while accuracy: 0.5249999761581421. Valid accuracy: 0.5183939873417721\n",
      "Epoch  4, CIFAR-10 Batch 2:  cost_value is 1.304574966430664, while accuracy: 0.550000011920929. Valid accuracy: 0.5284810126582279\n",
      "Epoch  4, CIFAR-10 Batch 3:  cost_value is 1.235133171081543, while accuracy: 0.550000011920929. Valid accuracy: 0.5223496835443038\n",
      "Epoch  4, CIFAR-10 Batch 4:  cost_value is 1.2638014554977417, while accuracy: 0.550000011920929. Valid accuracy: 0.5197784810126582\n",
      "Epoch  4, CIFAR-10 Batch 5:  cost_value is 1.2990609407424927, while accuracy: 0.5750000476837158. Valid accuracy: 0.5403481012658228\n",
      "Epoch  5, CIFAR-10 Batch 1:  cost_value is 1.4001562595367432, while accuracy: 0.5249999761581421. Valid accuracy: 0.5456882911392406\n",
      "Epoch  5, CIFAR-10 Batch 2:  cost_value is 1.2452869415283203, while accuracy: 0.5750000476837158. Valid accuracy: 0.5452927215189873\n",
      "Epoch  5, CIFAR-10 Batch 3:  cost_value is 1.1674888134002686, while accuracy: 0.574999988079071. Valid accuracy: 0.5429193037974683\n",
      "Epoch  5, CIFAR-10 Batch 4:  cost_value is 1.2198584079742432, while accuracy: 0.6500000357627869. Valid accuracy: 0.5510284810126582\n",
      "Epoch  5, CIFAR-10 Batch 5:  cost_value is 1.1355373859405518, while accuracy: 0.6000000238418579. Valid accuracy: 0.5642800632911392\n",
      "Epoch  6, CIFAR-10 Batch 1:  cost_value is 1.3146837949752808, while accuracy: 0.6000000238418579. Valid accuracy: 0.5557753164556962\n",
      "Epoch  6, CIFAR-10 Batch 2:  cost_value is 1.1606296300888062, while accuracy: 0.574999988079071. Valid accuracy: 0.564873417721519\n",
      "Epoch  6, CIFAR-10 Batch 3:  cost_value is 1.0636379718780518, while accuracy: 0.625. Valid accuracy: 0.5714003164556962\n",
      "Epoch  6, CIFAR-10 Batch 4:  cost_value is 1.1119141578674316, while accuracy: 0.6000000238418579. Valid accuracy: 0.5650712025316456\n",
      "Epoch  6, CIFAR-10 Batch 5:  cost_value is 1.0497188568115234, while accuracy: 0.625. Valid accuracy: 0.5714003164556962\n",
      "Epoch  7, CIFAR-10 Batch 1:  cost_value is 1.267970085144043, while accuracy: 0.550000011920929. Valid accuracy: 0.5680379746835443\n",
      "Epoch  7, CIFAR-10 Batch 2:  cost_value is 1.1321512460708618, while accuracy: 0.675000011920929. Valid accuracy: 0.5834651898734177\n",
      "Epoch  7, CIFAR-10 Batch 3:  cost_value is 0.9305474758148193, while accuracy: 0.75. Valid accuracy: 0.5856408227848101\n",
      "Epoch  7, CIFAR-10 Batch 4:  cost_value is 1.0060628652572632, while accuracy: 0.625. Valid accuracy: 0.5737737341772152\n",
      "Epoch  7, CIFAR-10 Batch 5:  cost_value is 1.019547462463379, while accuracy: 0.6500000357627869. Valid accuracy: 0.5854430379746836\n",
      "Epoch  8, CIFAR-10 Batch 1:  cost_value is 1.164077639579773, while accuracy: 0.5750000476837158. Valid accuracy: 0.5882120253164557\n",
      "Epoch  8, CIFAR-10 Batch 2:  cost_value is 1.1421841382980347, while accuracy: 0.6749999523162842. Valid accuracy: 0.5901898734177216\n",
      "Epoch  8, CIFAR-10 Batch 3:  cost_value is 0.9265182018280029, while accuracy: 0.75. Valid accuracy: 0.5971123417721519\n",
      "Epoch  8, CIFAR-10 Batch 4:  cost_value is 1.0169895887374878, while accuracy: 0.574999988079071. Valid accuracy: 0.5856408227848101\n",
      "Epoch  8, CIFAR-10 Batch 5:  cost_value is 0.9273121356964111, while accuracy: 0.6500000357627869. Valid accuracy: 0.5945411392405063\n",
      "Epoch  9, CIFAR-10 Batch 1:  cost_value is 1.1206337213516235, while accuracy: 0.550000011920929. Valid accuracy: 0.6064082278481012\n",
      "Epoch  9, CIFAR-10 Batch 2:  cost_value is 1.1140170097351074, while accuracy: 0.675000011920929. Valid accuracy: 0.5892009493670886\n",
      "Epoch  9, CIFAR-10 Batch 3:  cost_value is 0.8225437998771667, while accuracy: 0.7750000357627869. Valid accuracy: 0.6149129746835443\n",
      "Epoch  9, CIFAR-10 Batch 4:  cost_value is 0.8999874591827393, while accuracy: 0.7250000238418579. Valid accuracy: 0.5959256329113924\n",
      "Epoch  9, CIFAR-10 Batch 5:  cost_value is 0.8723300099372864, while accuracy: 0.7250000238418579. Valid accuracy: 0.6014636075949367\n",
      "Epoch 10, CIFAR-10 Batch 1:  cost_value is 1.0124844312667847, while accuracy: 0.6499999761581421. Valid accuracy: 0.6018591772151899\n",
      "Epoch 10, CIFAR-10 Batch 2:  cost_value is 1.0173460245132446, while accuracy: 0.625. Valid accuracy: 0.6123417721518988\n",
      "Epoch 10, CIFAR-10 Batch 3:  cost_value is 0.7800668478012085, while accuracy: 0.7750000357627869. Valid accuracy: 0.6159018987341772\n",
      "Epoch 10, CIFAR-10 Batch 4:  cost_value is 0.8451558351516724, while accuracy: 0.7000000476837158. Valid accuracy: 0.6149129746835443\n",
      "Epoch 10, CIFAR-10 Batch 5:  cost_value is 0.8559534549713135, while accuracy: 0.7000000476837158. Valid accuracy: 0.614121835443038\n",
      "Epoch 11, CIFAR-10 Batch 1:  cost_value is 1.0255016088485718, while accuracy: 0.5750000476837158. Valid accuracy: 0.6157041139240507\n",
      "Epoch 11, CIFAR-10 Batch 2:  cost_value is 0.9673396348953247, while accuracy: 0.6499999761581421. Valid accuracy: 0.6194620253164557\n",
      "Epoch 11, CIFAR-10 Batch 3:  cost_value is 0.7114908695220947, while accuracy: 0.8250000476837158. Valid accuracy: 0.6184731012658228\n",
      "Epoch 11, CIFAR-10 Batch 4:  cost_value is 0.79660564661026, while accuracy: 0.7250000238418579. Valid accuracy: 0.6216376582278481\n",
      "Epoch 11, CIFAR-10 Batch 5:  cost_value is 0.8284757137298584, while accuracy: 0.6750000715255737. Valid accuracy: 0.616495253164557\n",
      "Epoch 12, CIFAR-10 Batch 1:  cost_value is 0.9868667125701904, while accuracy: 0.6499999761581421. Valid accuracy: 0.6283623417721519\n",
      "Epoch 12, CIFAR-10 Batch 2:  cost_value is 0.9316860437393188, while accuracy: 0.6499999761581421. Valid accuracy: 0.6253955696202531\n",
      "Epoch 12, CIFAR-10 Batch 3:  cost_value is 0.6193323731422424, while accuracy: 0.875. Valid accuracy: 0.6323180379746836\n",
      "Epoch 12, CIFAR-10 Batch 4:  cost_value is 0.7531681060791016, while accuracy: 0.7750000357627869. Valid accuracy: 0.6212420886075949\n",
      "Epoch 12, CIFAR-10 Batch 5:  cost_value is 0.7416062951087952, while accuracy: 0.75. Valid accuracy: 0.6267800632911392\n",
      "Epoch 13, CIFAR-10 Batch 1:  cost_value is 0.9775833487510681, while accuracy: 0.6000000238418579. Valid accuracy: 0.6196598101265823\n",
      "Epoch 13, CIFAR-10 Batch 2:  cost_value is 0.947868824005127, while accuracy: 0.7000000476837158. Valid accuracy: 0.634493670886076\n",
      "Epoch 13, CIFAR-10 Batch 3:  cost_value is 0.6793230175971985, while accuracy: 0.8000000715255737. Valid accuracy: 0.6283623417721519\n",
      "Epoch 13, CIFAR-10 Batch 4:  cost_value is 0.7254098653793335, while accuracy: 0.75. Valid accuracy: 0.6374604430379747\n",
      "Epoch 13, CIFAR-10 Batch 5:  cost_value is 0.7250184416770935, while accuracy: 0.75. Valid accuracy: 0.627373417721519\n",
      "Epoch 14, CIFAR-10 Batch 1:  cost_value is 0.9124086499214172, while accuracy: 0.6499999761581421. Valid accuracy: 0.6174841772151899\n",
      "Epoch 14, CIFAR-10 Batch 2:  cost_value is 0.8747149705886841, while accuracy: 0.7250000238418579. Valid accuracy: 0.640625\n",
      "Epoch 14, CIFAR-10 Batch 3:  cost_value is 0.5973160266876221, while accuracy: 0.8500000238418579. Valid accuracy: 0.6433939873417721\n",
      "Epoch 14, CIFAR-10 Batch 4:  cost_value is 0.6685351133346558, while accuracy: 0.75. Valid accuracy: 0.6404272151898734\n",
      "Epoch 14, CIFAR-10 Batch 5:  cost_value is 0.7530744075775146, while accuracy: 0.7749999761581421. Valid accuracy: 0.6267800632911392\n",
      "Epoch 15, CIFAR-10 Batch 1:  cost_value is 0.844933032989502, while accuracy: 0.7000000476837158. Valid accuracy: 0.6356803797468354\n",
      "Epoch 15, CIFAR-10 Batch 2:  cost_value is 0.7550370097160339, while accuracy: 0.8250000476837158. Valid accuracy: 0.6503164556962026\n",
      "Epoch 15, CIFAR-10 Batch 3:  cost_value is 0.5347703695297241, while accuracy: 0.9000000357627869. Valid accuracy: 0.6544699367088608\n",
      "Epoch 15, CIFAR-10 Batch 4:  cost_value is 0.6980904340744019, while accuracy: 0.75. Valid accuracy: 0.6408227848101266\n",
      "Epoch 15, CIFAR-10 Batch 5:  cost_value is 0.626378059387207, while accuracy: 0.7749999761581421. Valid accuracy: 0.6317246835443038\n",
      "Epoch 16, CIFAR-10 Batch 1:  cost_value is 0.8876320123672485, while accuracy: 0.6499999761581421. Valid accuracy: 0.6368670886075949\n",
      "Epoch 16, CIFAR-10 Batch 2:  cost_value is 0.8206499814987183, while accuracy: 0.7250000238418579. Valid accuracy: 0.640625\n",
      "Epoch 16, CIFAR-10 Batch 3:  cost_value is 0.5501667857170105, while accuracy: 0.925000011920929. Valid accuracy: 0.6420094936708861\n",
      "Epoch 16, CIFAR-10 Batch 4:  cost_value is 0.6115468740463257, while accuracy: 0.7749999761581421. Valid accuracy: 0.6499208860759493\n",
      "Epoch 16, CIFAR-10 Batch 5:  cost_value is 0.6685695052146912, while accuracy: 0.800000011920929. Valid accuracy: 0.6285601265822784\n",
      "Epoch 17, CIFAR-10 Batch 1:  cost_value is 0.8344458341598511, while accuracy: 0.6750000715255737. Valid accuracy: 0.6366693037974683\n",
      "Epoch 17, CIFAR-10 Batch 2:  cost_value is 0.7624390721321106, while accuracy: 0.8250000476837158. Valid accuracy: 0.6518987341772152\n",
      "Epoch 17, CIFAR-10 Batch 3:  cost_value is 0.47171086072921753, while accuracy: 0.9000000357627869. Valid accuracy: 0.6568433544303798\n",
      "Epoch 17, CIFAR-10 Batch 4:  cost_value is 0.6012949347496033, while accuracy: 0.75. Valid accuracy: 0.642998417721519\n",
      "Epoch 17, CIFAR-10 Batch 5:  cost_value is 0.5960565805435181, while accuracy: 0.875. Valid accuracy: 0.6517009493670886\n",
      "Epoch 18, CIFAR-10 Batch 1:  cost_value is 0.7280907034873962, while accuracy: 0.7250000238418579. Valid accuracy: 0.6507120253164557\n",
      "Epoch 18, CIFAR-10 Batch 2:  cost_value is 0.7335875034332275, while accuracy: 0.8000000715255737. Valid accuracy: 0.6558544303797469\n",
      "Epoch 18, CIFAR-10 Batch 3:  cost_value is 0.45713454484939575, while accuracy: 0.875. Valid accuracy: 0.6578322784810127\n",
      "Epoch 18, CIFAR-10 Batch 4:  cost_value is 0.5627385377883911, while accuracy: 0.8500000238418579. Valid accuracy: 0.6578322784810127\n",
      "Epoch 18, CIFAR-10 Batch 5:  cost_value is 0.5916889905929565, while accuracy: 0.875. Valid accuracy: 0.642998417721519\n",
      "Epoch 19, CIFAR-10 Batch 1:  cost_value is 0.6643029451370239, while accuracy: 0.7749999761581421. Valid accuracy: 0.6507120253164557\n",
      "Epoch 19, CIFAR-10 Batch 2:  cost_value is 0.7428986430168152, while accuracy: 0.8000000715255737. Valid accuracy: 0.6428006329113924\n",
      "Epoch 19, CIFAR-10 Batch 3:  cost_value is 0.4709782302379608, while accuracy: 0.925000011920929. Valid accuracy: 0.6568433544303798\n",
      "Epoch 19, CIFAR-10 Batch 4:  cost_value is 0.46879440546035767, while accuracy: 0.8750000596046448. Valid accuracy: 0.6455696202531646\n",
      "Epoch 19, CIFAR-10 Batch 5:  cost_value is 0.547670841217041, while accuracy: 0.8500000238418579. Valid accuracy: 0.6396360759493671\n",
      "Epoch 20, CIFAR-10 Batch 1:  cost_value is 0.6827510595321655, while accuracy: 0.75. Valid accuracy: 0.6475474683544303\n",
      "Epoch 20, CIFAR-10 Batch 2:  cost_value is 0.6709101796150208, while accuracy: 0.7750000357627869. Valid accuracy: 0.6511075949367089\n",
      "Epoch 20, CIFAR-10 Batch 3:  cost_value is 0.4200473427772522, while accuracy: 0.925000011920929. Valid accuracy: 0.6528876582278481\n",
      "Epoch 20, CIFAR-10 Batch 4:  cost_value is 0.5193189382553101, while accuracy: 0.8250000476837158. Valid accuracy: 0.6552610759493671\n",
      "Epoch 20, CIFAR-10 Batch 5:  cost_value is 0.5270376801490784, while accuracy: 0.8999999761581421. Valid accuracy: 0.662381329113924\n",
      "Epoch 21, CIFAR-10 Batch 1:  cost_value is 0.636181652545929, while accuracy: 0.75. Valid accuracy: 0.6546677215189873\n",
      "Epoch 21, CIFAR-10 Batch 2:  cost_value is 0.6757684946060181, while accuracy: 0.8000000715255737. Valid accuracy: 0.6604034810126582\n",
      "Epoch 21, CIFAR-10 Batch 3:  cost_value is 0.37200284004211426, while accuracy: 0.949999988079071. Valid accuracy: 0.6621835443037974\n",
      "Epoch 21, CIFAR-10 Batch 4:  cost_value is 0.46866974234580994, while accuracy: 0.8500000238418579. Valid accuracy: 0.6511075949367089\n",
      "Epoch 21, CIFAR-10 Batch 5:  cost_value is 0.5639466643333435, while accuracy: 0.875. Valid accuracy: 0.6546677215189873\n",
      "Epoch 22, CIFAR-10 Batch 1:  cost_value is 0.5729460716247559, while accuracy: 0.75. Valid accuracy: 0.650118670886076\n",
      "Epoch 22, CIFAR-10 Batch 2:  cost_value is 0.6920114755630493, while accuracy: 0.75. Valid accuracy: 0.6582278481012658\n",
      "Epoch 22, CIFAR-10 Batch 3:  cost_value is 0.4038681387901306, while accuracy: 0.925000011920929. Valid accuracy: 0.665743670886076\n",
      "Epoch 22, CIFAR-10 Batch 4:  cost_value is 0.49903368949890137, while accuracy: 0.875. Valid accuracy: 0.6554588607594937\n",
      "Epoch 22, CIFAR-10 Batch 5:  cost_value is 0.5292837023735046, while accuracy: 0.8750000596046448. Valid accuracy: 0.6511075949367089\n",
      "Epoch 23, CIFAR-10 Batch 1:  cost_value is 0.5797286033630371, while accuracy: 0.7999999523162842. Valid accuracy: 0.6578322784810127\n",
      "Epoch 23, CIFAR-10 Batch 2:  cost_value is 0.6045550107955933, while accuracy: 0.8500000238418579. Valid accuracy: 0.6578322784810127\n",
      "Epoch 23, CIFAR-10 Batch 3:  cost_value is 0.35946419835090637, while accuracy: 0.8999999761581421. Valid accuracy: 0.6596123417721519\n",
      "Epoch 23, CIFAR-10 Batch 4:  cost_value is 0.40572816133499146, while accuracy: 0.9000000357627869. Valid accuracy: 0.6556566455696202\n",
      "Epoch 23, CIFAR-10 Batch 5:  cost_value is 0.4994201064109802, while accuracy: 0.9000000357627869. Valid accuracy: 0.6499208860759493\n",
      "Epoch 24, CIFAR-10 Batch 1:  cost_value is 0.586948812007904, while accuracy: 0.8000000715255737. Valid accuracy: 0.6570411392405063\n",
      "Epoch 24, CIFAR-10 Batch 2:  cost_value is 0.5804996490478516, while accuracy: 0.8500000238418579. Valid accuracy: 0.6556566455696202\n",
      "Epoch 24, CIFAR-10 Batch 3:  cost_value is 0.33877021074295044, while accuracy: 0.949999988079071. Valid accuracy: 0.6619857594936709\n",
      "Epoch 24, CIFAR-10 Batch 4:  cost_value is 0.41353127360343933, while accuracy: 0.875. Valid accuracy: 0.6497231012658228\n",
      "Epoch 24, CIFAR-10 Batch 5:  cost_value is 0.5061795115470886, while accuracy: 0.8750000596046448. Valid accuracy: 0.6465585443037974\n",
      "Epoch 25, CIFAR-10 Batch 1:  cost_value is 0.5045979022979736, while accuracy: 0.8500000238418579. Valid accuracy: 0.6635680379746836\n",
      "Epoch 25, CIFAR-10 Batch 2:  cost_value is 0.5318115949630737, while accuracy: 0.8250000476837158. Valid accuracy: 0.6548655063291139\n",
      "Epoch 25, CIFAR-10 Batch 3:  cost_value is 0.3316486179828644, while accuracy: 0.925000011920929. Valid accuracy: 0.6598101265822784\n",
      "Epoch 25, CIFAR-10 Batch 4:  cost_value is 0.48163431882858276, while accuracy: 0.925000011920929. Valid accuracy: 0.6400316455696202\n",
      "Epoch 25, CIFAR-10 Batch 5:  cost_value is 0.48433905839920044, while accuracy: 0.9000000357627869. Valid accuracy: 0.6449762658227848\n",
      "Epoch 26, CIFAR-10 Batch 1:  cost_value is 0.5114412307739258, while accuracy: 0.7749999761581421. Valid accuracy: 0.6600079113924051\n",
      "Epoch 26, CIFAR-10 Batch 2:  cost_value is 0.5013153553009033, while accuracy: 0.8500000238418579. Valid accuracy: 0.6548655063291139\n",
      "Epoch 26, CIFAR-10 Batch 3:  cost_value is 0.3312588036060333, while accuracy: 0.949999988079071. Valid accuracy: 0.662381329113924\n",
      "Epoch 26, CIFAR-10 Batch 4:  cost_value is 0.3508528769016266, while accuracy: 0.9000000357627869. Valid accuracy: 0.6548655063291139\n",
      "Epoch 26, CIFAR-10 Batch 5:  cost_value is 0.4305252432823181, while accuracy: 0.8999999761581421. Valid accuracy: 0.6566455696202531\n",
      "Epoch 27, CIFAR-10 Batch 1:  cost_value is 0.4988606572151184, while accuracy: 0.8500000238418579. Valid accuracy: 0.6611946202531646\n",
      "Epoch 27, CIFAR-10 Batch 2:  cost_value is 0.42811086773872375, while accuracy: 0.8250000476837158. Valid accuracy: 0.6574367088607594\n",
      "Epoch 27, CIFAR-10 Batch 3:  cost_value is 0.3350904583930969, while accuracy: 0.9749999642372131. Valid accuracy: 0.6708860759493671\n",
      "Epoch 27, CIFAR-10 Batch 4:  cost_value is 0.3366606831550598, while accuracy: 0.9000000357627869. Valid accuracy: 0.658623417721519\n",
      "Epoch 27, CIFAR-10 Batch 5:  cost_value is 0.43288448452949524, while accuracy: 0.9249999523162842. Valid accuracy: 0.6546677215189873\n",
      "Epoch 28, CIFAR-10 Batch 1:  cost_value is 0.5240647792816162, while accuracy: 0.75. Valid accuracy: 0.663370253164557\n",
      "Epoch 28, CIFAR-10 Batch 2:  cost_value is 0.48194414377212524, while accuracy: 0.8500000238418579. Valid accuracy: 0.6675237341772152\n",
      "Epoch 28, CIFAR-10 Batch 3:  cost_value is 0.3361866772174835, while accuracy: 0.949999988079071. Valid accuracy: 0.6637658227848101\n",
      "Epoch 28, CIFAR-10 Batch 4:  cost_value is 0.28063878417015076, while accuracy: 0.949999988079071. Valid accuracy: 0.6617879746835443\n",
      "Epoch 28, CIFAR-10 Batch 5:  cost_value is 0.41477739810943604, while accuracy: 0.949999988079071. Valid accuracy: 0.6532832278481012\n",
      "Epoch 29, CIFAR-10 Batch 1:  cost_value is 0.4387274384498596, while accuracy: 0.8750000596046448. Valid accuracy: 0.6625791139240507\n",
      "Epoch 29, CIFAR-10 Batch 2:  cost_value is 0.4989216923713684, while accuracy: 0.8500000238418579. Valid accuracy: 0.6418117088607594\n",
      "Epoch 29, CIFAR-10 Batch 3:  cost_value is 0.3429373502731323, while accuracy: 0.925000011920929. Valid accuracy: 0.658623417721519\n",
      "Epoch 29, CIFAR-10 Batch 4:  cost_value is 0.3173406720161438, while accuracy: 0.9000000357627869. Valid accuracy: 0.6665348101265823\n",
      "Epoch 29, CIFAR-10 Batch 5:  cost_value is 0.4488682746887207, while accuracy: 0.925000011920929. Valid accuracy: 0.6520965189873418\n",
      "Epoch 30, CIFAR-10 Batch 1:  cost_value is 0.437120646238327, while accuracy: 0.8500000238418579. Valid accuracy: 0.6524920886075949\n",
      "Epoch 30, CIFAR-10 Batch 2:  cost_value is 0.41176337003707886, while accuracy: 0.8500000238418579. Valid accuracy: 0.6627768987341772\n",
      "Epoch 30, CIFAR-10 Batch 3:  cost_value is 0.34624943137168884, while accuracy: 0.9000000357627869. Valid accuracy: 0.6641613924050633\n",
      "Epoch 30, CIFAR-10 Batch 4:  cost_value is 0.35223388671875, while accuracy: 0.925000011920929. Valid accuracy: 0.6580300632911392\n",
      "Epoch 30, CIFAR-10 Batch 5:  cost_value is 0.3877338171005249, while accuracy: 0.925000011920929. Valid accuracy: 0.6556566455696202\n"
     ]
    }
   ],
   "source": [
    "\"\"\"\n",
    "DON'T MODIFY ANYTHING IN THIS CELL\n",
    "\"\"\"\n",
    "save_model_path = './image_classification'\n",
    "\n",
    "print('Training...')\n",
    "with tf.Session() as sess:\n",
    "    # Initializing the variables\n",
    "    sess.run(tf.global_variables_initializer())\n",
    "    \n",
    "    # Training cycle\n",
    "    for epoch in range(epochs):\n",
    "        # Loop over all batches\n",
    "        n_batches = 5\n",
    "        for batch_i in range(1, n_batches + 1):\n",
    "            for batch_features, batch_labels in helper.load_preprocess_training_batch(batch_i, batch_size):\n",
    "                train_neural_network(sess, optimizer, keep_probability, batch_features, batch_labels)\n",
    "            print('Epoch {:>2}, CIFAR-10 Batch {}:  '.format(epoch + 1, batch_i), end='')\n",
    "            print_stats(sess, batch_features, batch_labels, cost, accuracy)\n",
    "            \n",
    "    # Save Model\n",
    "    saver = tf.train.Saver()\n",
    "    save_path = saver.save(sess, save_model_path)"
   ]
  },
  {
   "cell_type": "markdown",
   "metadata": {
    "deletable": true,
    "editable": true
   },
   "source": [
    "# Checkpoint\n",
    "The model has been saved to disk.\n",
    "## Test Model\n",
    "Test your model against the test dataset.  This will be your final accuracy. You should have an accuracy greater than 50%. If you don't, keep tweaking the model architecture and parameters."
   ]
  },
  {
   "cell_type": "code",
   "execution_count": 18,
   "metadata": {
    "collapsed": false,
    "deletable": true,
    "editable": true
   },
   "outputs": [
    {
     "name": "stdout",
     "output_type": "stream",
     "text": [
      "Testing Accuracy: 0.6564490445859873\n",
      "\n"
     ]
    },
    {
     "data": {
      "image/png": "[encoded data removed]",
      "text/plain": [
       "<matplotlib.figure.Figure at 0x7f7acc3a5ef0>"
      ]
     },
     "metadata": {
      "image/png": {
       "height": 319,
       "width": 355
      }
     },
     "output_type": "display_data"
    }
   ],
   "source": [
    "\"\"\"\n",
    "DON'T MODIFY ANYTHING IN THIS CELL\n",
    "\"\"\"\n",
    "%matplotlib inline\n",
    "%config InlineBackend.figure_format = 'retina'\n",
    "\n",
    "import tensorflow as tf\n",
    "import pickle\n",
    "import helper\n",
    "import random\n",
    "\n",
    "# Set batch size if not already set\n",
    "try:\n",
    "    if batch_size:\n",
    "        pass\n",
    "except NameError:\n",
    "    batch_size = 64\n",
    "\n",
    "save_model_path = './image_classification'\n",
    "n_samples = 4\n",
    "top_n_predictions = 3\n",
    "\n",
    "def test_model():\n",
    "    \"\"\"\n",
    "    Test the saved model against the test dataset\n",
    "    \"\"\"\n",
    "\n",
    "    test_features, test_labels = pickle.load(open('preprocess_training.p', mode='rb'))\n",
    "    loaded_graph = tf.Graph()\n",
    "\n",
    "    with tf.Session(graph=loaded_graph) as sess:\n",
    "        # Load model\n",
    "        loader = tf.train.import_meta_graph(save_model_path + '.meta')\n",
    "        loader.restore(sess, save_model_path)\n",
    "\n",
    "        # Get Tensors from loaded model\n",
    "        loaded_x = loaded_graph.get_tensor_by_name('x:0')\n",
    "        loaded_y = loaded_graph.get_tensor_by_name('y:0')\n",
    "        loaded_keep_prob = loaded_graph.get_tensor_by_name('keep_prob:0')\n",
    "        loaded_logits = loaded_graph.get_tensor_by_name('logits:0')\n",
    "        loaded_acc = loaded_graph.get_tensor_by_name('accuracy:0')\n",
    "        \n",
    "        # Get accuracy in batches for memory limitations\n",
    "        test_batch_acc_total = 0\n",
    "        test_batch_count = 0\n",
    "        \n",
    "        for train_feature_batch, train_label_batch in helper.batch_features_labels(test_features, test_labels, batch_size):\n",
    "            test_batch_acc_total += sess.run(\n",
    "                loaded_acc,\n",
    "                feed_dict={loaded_x: train_feature_batch, loaded_y: train_label_batch, loaded_keep_prob: 1.0})\n",
    "            test_batch_count += 1\n",
    "\n",
    "        print('Testing Accuracy: {}\\n'.format(test_batch_acc_total/test_batch_count))\n",
    "\n",
    "        # Print Random Samples\n",
    "        random_test_features, random_test_labels = tuple(zip(*random.sample(list(zip(test_features, test_labels)), n_samples)))\n",
    "        random_test_predictions = sess.run(\n",
    "            tf.nn.top_k(tf.nn.softmax(loaded_logits), top_n_predictions),\n",
    "            feed_dict={loaded_x: random_test_features, loaded_y: random_test_labels, loaded_keep_prob: 1.0})\n",
    "        helper.display_image_predictions(random_test_features, random_test_labels, random_test_predictions)\n",
    "\n",
    "\n",
    "test_model()"
   ]
  },
  {
   "cell_type": "markdown",
   "metadata": {
    "deletable": true,
    "editable": true
   },
   "source": [
    "## Why 50-70% Accuracy?\n",
    "You might be wondering why you can't get an accuracy any higher. First things first, 50% isn't bad for a simple CNN.  Pure guessing would get you 10% accuracy. However, you might notice people are getting scores [well above 70%](http://rodrigob.github.io/are_we_there_yet/build/classification_datasets_results.html#43494641522d3130).  That's because we haven't taught you all there is to know about neural networks. We still need to cover a few more techniques.\n",
    "## Submitting This Project\n",
    "When submitting this project, make sure to run all the cells before saving the notebook.  Save the notebook file as \"dlnd_image_classification.ipynb\" and save it as a HTML file under \"File\" -> \"Download as\".  Include the \"helper.py\" and \"problem_unittests.py\" files in your submission."
   ]
  },
  {
   "cell_type": "code",
   "execution_count": null,
   "metadata": {
    "collapsed": true,
    "deletable": true,
    "editable": true
   },
   "outputs": [],
   "source": []
  }
 ],
 "metadata": {
  "kernelspec": {
   "display_name": "Python 3",
   "language": "python",
   "name": "python3"
  },
  "language_info": {
   "codemirror_mode": {
    "name": "ipython",
    "version": 3
   },
   "file_extension": ".py",
   "mimetype": "text/x-python",
   "name": "python",
   "nbconvert_exporter": "python",
   "pygments_lexer": "ipython3",
   "version": "3.5.2"
  },
  "widgets": {
   "state": {},
   "version": "1.1.2"
  }
 },
 "nbformat": 4,
 "nbformat_minor": 0
}
